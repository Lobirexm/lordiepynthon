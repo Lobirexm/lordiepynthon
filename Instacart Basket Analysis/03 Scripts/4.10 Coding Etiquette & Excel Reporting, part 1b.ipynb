{
 "cells": [
  {
   "cell_type": "markdown",
   "id": "ef47d0ff-6e0c-4d3d-b5f1-66b761e54d76",
   "metadata": {},
   "source": [
    "# import libraries"
   ]
  },
  {
   "cell_type": "code",
   "execution_count": 3,
   "id": "b8bf7659-b469-4268-b3e7-d152d7afeb34",
   "metadata": {},
   "outputs": [],
   "source": [
    "#import libraries\n",
    "import pandas as pd\n",
    "import numpy as np\n",
    "import os\n",
    "import matplotlib.pyplot as plt\n",
    "import seaborn as sns \n",
    "import scipy"
   ]
  },
  {
   "cell_type": "code",
   "execution_count": 4,
   "id": "db559c5c-9a0f-4726-a6b6-64ae542fbd51",
   "metadata": {},
   "outputs": [],
   "source": [
    "#Import high activity customer data frame \n",
    "hac = pd.read_pickle(r'/Users/lordsonobire/Documents/Data Immersion/Achievement 4/Instacart Basket Analysis/02 Data/Prepared Data/High_activity_customers.pkl')"
   ]
  },
  {
   "cell_type": "code",
   "execution_count": 5,
   "id": "0af99a39-d7bf-4ae2-ae82-60dda9a74fe8",
   "metadata": {},
   "outputs": [],
   "source": [
    "#import department data frame \n",
    "dept = pd.read_csv(r'/Users/lordsonobire/Documents/Data Immersion/Achievement 4/Instacart Basket Analysis/02 Data/Prepared Data/departments_wrangled.csv', index_col= False)"
   ]
  },
  {
   "cell_type": "code",
   "execution_count": 6,
   "id": "673b1c22-37d2-4635-a090-a0382d6918f8",
   "metadata": {},
   "outputs": [
    {
     "data": {
      "text/html": [
       "<div>\n",
       "<style scoped>\n",
       "    .dataframe tbody tr th:only-of-type {\n",
       "        vertical-align: middle;\n",
       "    }\n",
       "\n",
       "    .dataframe tbody tr th {\n",
       "        vertical-align: top;\n",
       "    }\n",
       "\n",
       "    .dataframe thead th {\n",
       "        text-align: right;\n",
       "    }\n",
       "</style>\n",
       "<table border=\"1\" class=\"dataframe\">\n",
       "  <thead>\n",
       "    <tr style=\"text-align: right;\">\n",
       "      <th></th>\n",
       "      <th>Unnamed: 0</th>\n",
       "      <th>department</th>\n",
       "    </tr>\n",
       "  </thead>\n",
       "  <tbody>\n",
       "    <tr>\n",
       "      <th>0</th>\n",
       "      <td>1</td>\n",
       "      <td>frozen</td>\n",
       "    </tr>\n",
       "    <tr>\n",
       "      <th>1</th>\n",
       "      <td>2</td>\n",
       "      <td>other</td>\n",
       "    </tr>\n",
       "    <tr>\n",
       "      <th>2</th>\n",
       "      <td>3</td>\n",
       "      <td>bakery</td>\n",
       "    </tr>\n",
       "    <tr>\n",
       "      <th>3</th>\n",
       "      <td>4</td>\n",
       "      <td>produce</td>\n",
       "    </tr>\n",
       "    <tr>\n",
       "      <th>4</th>\n",
       "      <td>5</td>\n",
       "      <td>alcohol</td>\n",
       "    </tr>\n",
       "    <tr>\n",
       "      <th>5</th>\n",
       "      <td>6</td>\n",
       "      <td>international</td>\n",
       "    </tr>\n",
       "    <tr>\n",
       "      <th>6</th>\n",
       "      <td>7</td>\n",
       "      <td>beverages</td>\n",
       "    </tr>\n",
       "    <tr>\n",
       "      <th>7</th>\n",
       "      <td>8</td>\n",
       "      <td>pets</td>\n",
       "    </tr>\n",
       "    <tr>\n",
       "      <th>8</th>\n",
       "      <td>9</td>\n",
       "      <td>dry goods pasta</td>\n",
       "    </tr>\n",
       "    <tr>\n",
       "      <th>9</th>\n",
       "      <td>10</td>\n",
       "      <td>bulk</td>\n",
       "    </tr>\n",
       "    <tr>\n",
       "      <th>10</th>\n",
       "      <td>11</td>\n",
       "      <td>personal care</td>\n",
       "    </tr>\n",
       "    <tr>\n",
       "      <th>11</th>\n",
       "      <td>12</td>\n",
       "      <td>meat seafood</td>\n",
       "    </tr>\n",
       "    <tr>\n",
       "      <th>12</th>\n",
       "      <td>13</td>\n",
       "      <td>pantry</td>\n",
       "    </tr>\n",
       "    <tr>\n",
       "      <th>13</th>\n",
       "      <td>14</td>\n",
       "      <td>breakfast</td>\n",
       "    </tr>\n",
       "    <tr>\n",
       "      <th>14</th>\n",
       "      <td>15</td>\n",
       "      <td>canned goods</td>\n",
       "    </tr>\n",
       "    <tr>\n",
       "      <th>15</th>\n",
       "      <td>16</td>\n",
       "      <td>dairy eggs</td>\n",
       "    </tr>\n",
       "    <tr>\n",
       "      <th>16</th>\n",
       "      <td>17</td>\n",
       "      <td>household</td>\n",
       "    </tr>\n",
       "    <tr>\n",
       "      <th>17</th>\n",
       "      <td>18</td>\n",
       "      <td>babies</td>\n",
       "    </tr>\n",
       "    <tr>\n",
       "      <th>18</th>\n",
       "      <td>19</td>\n",
       "      <td>snacks</td>\n",
       "    </tr>\n",
       "    <tr>\n",
       "      <th>19</th>\n",
       "      <td>20</td>\n",
       "      <td>deli</td>\n",
       "    </tr>\n",
       "    <tr>\n",
       "      <th>20</th>\n",
       "      <td>21</td>\n",
       "      <td>missing</td>\n",
       "    </tr>\n",
       "  </tbody>\n",
       "</table>\n",
       "</div>"
      ],
      "text/plain": [
       "    Unnamed: 0       department\n",
       "0            1           frozen\n",
       "1            2            other\n",
       "2            3           bakery\n",
       "3            4          produce\n",
       "4            5          alcohol\n",
       "5            6    international\n",
       "6            7        beverages\n",
       "7            8             pets\n",
       "8            9  dry goods pasta\n",
       "9           10             bulk\n",
       "10          11    personal care\n",
       "11          12     meat seafood\n",
       "12          13           pantry\n",
       "13          14        breakfast\n",
       "14          15     canned goods\n",
       "15          16       dairy eggs\n",
       "16          17        household\n",
       "17          18           babies\n",
       "18          19           snacks\n",
       "19          20             deli\n",
       "20          21          missing"
      ]
     },
     "execution_count": 6,
     "metadata": {},
     "output_type": "execute_result"
    }
   ],
   "source": [
    "dept"
   ]
  },
  {
   "cell_type": "code",
   "execution_count": 7,
   "id": "656851dd-8c47-49d8-b05e-7676f07f9c34",
   "metadata": {},
   "outputs": [],
   "source": [
    "# Rename 'Unnamed: 0' to 'department_id'\n",
    "dept = dept.rename(columns={'Unnamed: 0': 'department_id'})"
   ]
  },
  {
   "cell_type": "markdown",
   "id": "3fb32ef9-60bf-4c9e-8c8e-e03c8bbe3b70",
   "metadata": {},
   "source": [
    "# merge table to to run further comparisions "
   ]
  },
  {
   "cell_type": "code",
   "execution_count": 9,
   "id": "42200971-0d31-43e8-a48f-213b836584a6",
   "metadata": {},
   "outputs": [],
   "source": [
    "merged=hac.merge(dept, on= 'department_id', how= 'left', indicator= 'done')"
   ]
  },
  {
   "cell_type": "code",
   "execution_count": 10,
   "id": "315e62ab-d43c-4d34-9596-495e68b0dccf",
   "metadata": {},
   "outputs": [
    {
     "data": {
      "text/plain": [
       "done\n",
       "both          29303281\n",
       "left_only            0\n",
       "right_only           0\n",
       "Name: count, dtype: int64"
      ]
     },
     "execution_count": 10,
     "metadata": {},
     "output_type": "execute_result"
    }
   ],
   "source": [
    "#check to see if i got a complete merge\n",
    "merged['done'].value_counts()"
   ]
  },
  {
   "cell_type": "code",
   "execution_count": 11,
   "id": "66f94707-2b23-4033-8171-443cd0306b16",
   "metadata": {},
   "outputs": [],
   "source": [
    "#display all columns as rows \n",
    "pd.options.display.max_rows = None\n",
    "pd.options.display.max_columns = None "
   ]
  },
  {
   "cell_type": "code",
   "execution_count": 12,
   "id": "77a1975a-6f1e-44f3-a025-422b1640e9bd",
   "metadata": {},
   "outputs": [
    {
     "data": {
      "text/html": [
       "<div>\n",
       "<style scoped>\n",
       "    .dataframe tbody tr th:only-of-type {\n",
       "        vertical-align: middle;\n",
       "    }\n",
       "\n",
       "    .dataframe tbody tr th {\n",
       "        vertical-align: top;\n",
       "    }\n",
       "\n",
       "    .dataframe thead th {\n",
       "        text-align: right;\n",
       "    }\n",
       "</style>\n",
       "<table border=\"1\" class=\"dataframe\">\n",
       "  <thead>\n",
       "    <tr style=\"text-align: right;\">\n",
       "      <th></th>\n",
       "      <th>user_id</th>\n",
       "      <th>Gender</th>\n",
       "      <th>State</th>\n",
       "      <th>Age</th>\n",
       "      <th>Date Joined</th>\n",
       "      <th>number of dependants</th>\n",
       "      <th>Family Status</th>\n",
       "      <th>Income</th>\n",
       "      <th>order_id</th>\n",
       "      <th>order_number</th>\n",
       "      <th>order_day_of_week</th>\n",
       "      <th>order_hour_of_day</th>\n",
       "      <th>days_since_prior_order</th>\n",
       "      <th>product_id</th>\n",
       "      <th>add_to_cart_order</th>\n",
       "      <th>reordered</th>\n",
       "      <th>product_name</th>\n",
       "      <th>aisle_id</th>\n",
       "      <th>department_id</th>\n",
       "      <th>prices</th>\n",
       "      <th>match</th>\n",
       "      <th>price_range_loc</th>\n",
       "      <th>busiest_day</th>\n",
       "      <th>busiest_days</th>\n",
       "      <th>busiest_period_of_day</th>\n",
       "      <th>max_order</th>\n",
       "      <th>loyalty_flag</th>\n",
       "      <th>avg_product_price</th>\n",
       "      <th>spending_flag</th>\n",
       "      <th>median_days_between_orders</th>\n",
       "      <th>order_frequency_flag</th>\n",
       "      <th>region</th>\n",
       "      <th>activity_flag</th>\n",
       "      <th>department</th>\n",
       "      <th>done</th>\n",
       "    </tr>\n",
       "  </thead>\n",
       "  <tbody>\n",
       "    <tr>\n",
       "      <th>0</th>\n",
       "      <td>26711</td>\n",
       "      <td>Female</td>\n",
       "      <td>Missouri</td>\n",
       "      <td>48</td>\n",
       "      <td>1/1/2017</td>\n",
       "      <td>3</td>\n",
       "      <td>married</td>\n",
       "      <td>165665</td>\n",
       "      <td>423547</td>\n",
       "      <td>2</td>\n",
       "      <td>2</td>\n",
       "      <td>9</td>\n",
       "      <td>14.0</td>\n",
       "      <td>38928</td>\n",
       "      <td>1</td>\n",
       "      <td>0</td>\n",
       "      <td>0% Greek Strained Yogurt</td>\n",
       "      <td>120</td>\n",
       "      <td>16</td>\n",
       "      <td>12.6</td>\n",
       "      <td>both</td>\n",
       "      <td>Mid-range product</td>\n",
       "      <td>Regularly busy</td>\n",
       "      <td>Regularly busy</td>\n",
       "      <td>Most orders</td>\n",
       "      <td>8</td>\n",
       "      <td>New customer</td>\n",
       "      <td>8.205882</td>\n",
       "      <td>Low spender</td>\n",
       "      <td>19.0</td>\n",
       "      <td>Regular customer</td>\n",
       "      <td>Midwest</td>\n",
       "      <td>high-activity customer</td>\n",
       "      <td>dairy eggs</td>\n",
       "      <td>both</td>\n",
       "    </tr>\n",
       "    <tr>\n",
       "      <th>1</th>\n",
       "      <td>26711</td>\n",
       "      <td>Female</td>\n",
       "      <td>Missouri</td>\n",
       "      <td>48</td>\n",
       "      <td>1/1/2017</td>\n",
       "      <td>3</td>\n",
       "      <td>married</td>\n",
       "      <td>165665</td>\n",
       "      <td>2524893</td>\n",
       "      <td>3</td>\n",
       "      <td>3</td>\n",
       "      <td>11</td>\n",
       "      <td>30.0</td>\n",
       "      <td>38928</td>\n",
       "      <td>1</td>\n",
       "      <td>1</td>\n",
       "      <td>0% Greek Strained Yogurt</td>\n",
       "      <td>120</td>\n",
       "      <td>16</td>\n",
       "      <td>12.6</td>\n",
       "      <td>both</td>\n",
       "      <td>Mid-range product</td>\n",
       "      <td>Regularly busy</td>\n",
       "      <td>Least busy</td>\n",
       "      <td>Most orders</td>\n",
       "      <td>8</td>\n",
       "      <td>New customer</td>\n",
       "      <td>8.205882</td>\n",
       "      <td>Low spender</td>\n",
       "      <td>19.0</td>\n",
       "      <td>Regular customer</td>\n",
       "      <td>Midwest</td>\n",
       "      <td>high-activity customer</td>\n",
       "      <td>dairy eggs</td>\n",
       "      <td>both</td>\n",
       "    </tr>\n",
       "    <tr>\n",
       "      <th>2</th>\n",
       "      <td>26711</td>\n",
       "      <td>Female</td>\n",
       "      <td>Missouri</td>\n",
       "      <td>48</td>\n",
       "      <td>1/1/2017</td>\n",
       "      <td>3</td>\n",
       "      <td>married</td>\n",
       "      <td>165665</td>\n",
       "      <td>2524893</td>\n",
       "      <td>3</td>\n",
       "      <td>3</td>\n",
       "      <td>11</td>\n",
       "      <td>30.0</td>\n",
       "      <td>6184</td>\n",
       "      <td>2</td>\n",
       "      <td>1</td>\n",
       "      <td>Clementines</td>\n",
       "      <td>32</td>\n",
       "      <td>4</td>\n",
       "      <td>4.3</td>\n",
       "      <td>both</td>\n",
       "      <td>Low-range product</td>\n",
       "      <td>Regularly busy</td>\n",
       "      <td>Least busy</td>\n",
       "      <td>Most orders</td>\n",
       "      <td>8</td>\n",
       "      <td>New customer</td>\n",
       "      <td>8.205882</td>\n",
       "      <td>Low spender</td>\n",
       "      <td>19.0</td>\n",
       "      <td>Regular customer</td>\n",
       "      <td>Midwest</td>\n",
       "      <td>high-activity customer</td>\n",
       "      <td>produce</td>\n",
       "      <td>both</td>\n",
       "    </tr>\n",
       "    <tr>\n",
       "      <th>3</th>\n",
       "      <td>26711</td>\n",
       "      <td>Female</td>\n",
       "      <td>Missouri</td>\n",
       "      <td>48</td>\n",
       "      <td>1/1/2017</td>\n",
       "      <td>3</td>\n",
       "      <td>married</td>\n",
       "      <td>165665</td>\n",
       "      <td>2524893</td>\n",
       "      <td>3</td>\n",
       "      <td>3</td>\n",
       "      <td>11</td>\n",
       "      <td>30.0</td>\n",
       "      <td>47402</td>\n",
       "      <td>3</td>\n",
       "      <td>0</td>\n",
       "      <td>Fuji Apples</td>\n",
       "      <td>24</td>\n",
       "      <td>4</td>\n",
       "      <td>7.1</td>\n",
       "      <td>both</td>\n",
       "      <td>Mid-range product</td>\n",
       "      <td>Regularly busy</td>\n",
       "      <td>Least busy</td>\n",
       "      <td>Most orders</td>\n",
       "      <td>8</td>\n",
       "      <td>New customer</td>\n",
       "      <td>8.205882</td>\n",
       "      <td>Low spender</td>\n",
       "      <td>19.0</td>\n",
       "      <td>Regular customer</td>\n",
       "      <td>Midwest</td>\n",
       "      <td>high-activity customer</td>\n",
       "      <td>produce</td>\n",
       "      <td>both</td>\n",
       "    </tr>\n",
       "    <tr>\n",
       "      <th>4</th>\n",
       "      <td>26711</td>\n",
       "      <td>Female</td>\n",
       "      <td>Missouri</td>\n",
       "      <td>48</td>\n",
       "      <td>1/1/2017</td>\n",
       "      <td>3</td>\n",
       "      <td>married</td>\n",
       "      <td>165665</td>\n",
       "      <td>2984525</td>\n",
       "      <td>4</td>\n",
       "      <td>1</td>\n",
       "      <td>17</td>\n",
       "      <td>19.0</td>\n",
       "      <td>38928</td>\n",
       "      <td>1</td>\n",
       "      <td>1</td>\n",
       "      <td>0% Greek Strained Yogurt</td>\n",
       "      <td>120</td>\n",
       "      <td>16</td>\n",
       "      <td>12.6</td>\n",
       "      <td>both</td>\n",
       "      <td>Mid-range product</td>\n",
       "      <td>Regularly busy</td>\n",
       "      <td>Busiest day</td>\n",
       "      <td>Average orders</td>\n",
       "      <td>8</td>\n",
       "      <td>New customer</td>\n",
       "      <td>8.205882</td>\n",
       "      <td>Low spender</td>\n",
       "      <td>19.0</td>\n",
       "      <td>Regular customer</td>\n",
       "      <td>Midwest</td>\n",
       "      <td>high-activity customer</td>\n",
       "      <td>dairy eggs</td>\n",
       "      <td>both</td>\n",
       "    </tr>\n",
       "  </tbody>\n",
       "</table>\n",
       "</div>"
      ],
      "text/plain": [
       "   user_id  Gender     State  Age Date Joined  number of dependants  \\\n",
       "0    26711  Female  Missouri   48    1/1/2017                     3   \n",
       "1    26711  Female  Missouri   48    1/1/2017                     3   \n",
       "2    26711  Female  Missouri   48    1/1/2017                     3   \n",
       "3    26711  Female  Missouri   48    1/1/2017                     3   \n",
       "4    26711  Female  Missouri   48    1/1/2017                     3   \n",
       "\n",
       "  Family Status  Income  order_id  order_number  order_day_of_week  \\\n",
       "0       married  165665    423547             2                  2   \n",
       "1       married  165665   2524893             3                  3   \n",
       "2       married  165665   2524893             3                  3   \n",
       "3       married  165665   2524893             3                  3   \n",
       "4       married  165665   2984525             4                  1   \n",
       "\n",
       "   order_hour_of_day  days_since_prior_order  product_id  add_to_cart_order  \\\n",
       "0                  9                    14.0       38928                  1   \n",
       "1                 11                    30.0       38928                  1   \n",
       "2                 11                    30.0        6184                  2   \n",
       "3                 11                    30.0       47402                  3   \n",
       "4                 17                    19.0       38928                  1   \n",
       "\n",
       "   reordered              product_name  aisle_id  department_id  prices match  \\\n",
       "0          0  0% Greek Strained Yogurt       120             16    12.6  both   \n",
       "1          1  0% Greek Strained Yogurt       120             16    12.6  both   \n",
       "2          1               Clementines        32              4     4.3  both   \n",
       "3          0               Fuji Apples        24              4     7.1  both   \n",
       "4          1  0% Greek Strained Yogurt       120             16    12.6  both   \n",
       "\n",
       "     price_range_loc     busiest_day    busiest_days busiest_period_of_day  \\\n",
       "0  Mid-range product  Regularly busy  Regularly busy           Most orders   \n",
       "1  Mid-range product  Regularly busy      Least busy           Most orders   \n",
       "2  Low-range product  Regularly busy      Least busy           Most orders   \n",
       "3  Mid-range product  Regularly busy      Least busy           Most orders   \n",
       "4  Mid-range product  Regularly busy     Busiest day        Average orders   \n",
       "\n",
       "   max_order  loyalty_flag  avg_product_price spending_flag  \\\n",
       "0          8  New customer           8.205882   Low spender   \n",
       "1          8  New customer           8.205882   Low spender   \n",
       "2          8  New customer           8.205882   Low spender   \n",
       "3          8  New customer           8.205882   Low spender   \n",
       "4          8  New customer           8.205882   Low spender   \n",
       "\n",
       "   median_days_between_orders order_frequency_flag   region  \\\n",
       "0                        19.0     Regular customer  Midwest   \n",
       "1                        19.0     Regular customer  Midwest   \n",
       "2                        19.0     Regular customer  Midwest   \n",
       "3                        19.0     Regular customer  Midwest   \n",
       "4                        19.0     Regular customer  Midwest   \n",
       "\n",
       "            activity_flag  department  done  \n",
       "0  high-activity customer  dairy eggs  both  \n",
       "1  high-activity customer  dairy eggs  both  \n",
       "2  high-activity customer     produce  both  \n",
       "3  high-activity customer     produce  both  \n",
       "4  high-activity customer  dairy eggs  both  "
      ]
     },
     "execution_count": 12,
     "metadata": {},
     "output_type": "execute_result"
    }
   ],
   "source": [
    "#view new merged data frame \n",
    "merged.head()"
   ]
  },
  {
   "cell_type": "code",
   "execution_count": 13,
   "id": "6cb6ed78-f621-402e-9501-91e5ed850aba",
   "metadata": {},
   "outputs": [
    {
     "data": {
      "text/html": [
       "<div>\n",
       "<style scoped>\n",
       "    .dataframe tbody tr th:only-of-type {\n",
       "        vertical-align: middle;\n",
       "    }\n",
       "\n",
       "    .dataframe tbody tr th {\n",
       "        vertical-align: top;\n",
       "    }\n",
       "\n",
       "    .dataframe thead th {\n",
       "        text-align: right;\n",
       "    }\n",
       "</style>\n",
       "<table border=\"1\" class=\"dataframe\">\n",
       "  <thead>\n",
       "    <tr style=\"text-align: right;\">\n",
       "      <th></th>\n",
       "      <th>department_id</th>\n",
       "      <th>department</th>\n",
       "    </tr>\n",
       "  </thead>\n",
       "  <tbody>\n",
       "    <tr>\n",
       "      <th>0</th>\n",
       "      <td>1</td>\n",
       "      <td>frozen</td>\n",
       "    </tr>\n",
       "    <tr>\n",
       "      <th>1</th>\n",
       "      <td>2</td>\n",
       "      <td>other</td>\n",
       "    </tr>\n",
       "    <tr>\n",
       "      <th>2</th>\n",
       "      <td>3</td>\n",
       "      <td>bakery</td>\n",
       "    </tr>\n",
       "    <tr>\n",
       "      <th>3</th>\n",
       "      <td>4</td>\n",
       "      <td>produce</td>\n",
       "    </tr>\n",
       "    <tr>\n",
       "      <th>4</th>\n",
       "      <td>5</td>\n",
       "      <td>alcohol</td>\n",
       "    </tr>\n",
       "  </tbody>\n",
       "</table>\n",
       "</div>"
      ],
      "text/plain": [
       "   department_id department\n",
       "0              1     frozen\n",
       "1              2      other\n",
       "2              3     bakery\n",
       "3              4    produce\n",
       "4              5    alcohol"
      ]
     },
     "execution_count": 13,
     "metadata": {},
     "output_type": "execute_result"
    }
   ],
   "source": [
    "dept.head()"
   ]
  },
  {
   "cell_type": "code",
   "execution_count": 14,
   "id": "f21e9175-b2a9-4fb2-8ecf-fc342fe1e79e",
   "metadata": {},
   "outputs": [
    {
     "data": {
      "text/plain": [
       "Index(['user_id', 'Gender', 'State', 'Age', 'Date Joined',\n",
       "       'number of dependants', 'Family Status', 'Income', 'order_id',\n",
       "       'order_number', 'order_day_of_week', 'order_hour_of_day',\n",
       "       'days_since_prior_order', 'product_id', 'add_to_cart_order',\n",
       "       'reordered', 'product_name', 'aisle_id', 'department_id', 'prices',\n",
       "       'match', 'price_range_loc', 'busiest_day', 'busiest_days',\n",
       "       'busiest_period_of_day', 'max_order', 'loyalty_flag',\n",
       "       'avg_product_price', 'spending_flag', 'median_days_between_orders',\n",
       "       'order_frequency_flag', 'region', 'activity_flag', 'department',\n",
       "       'done'],\n",
       "      dtype='object')"
      ]
     },
     "execution_count": 14,
     "metadata": {},
     "output_type": "execute_result"
    }
   ],
   "source": [
    "merged.columns"
   ]
  },
  {
   "cell_type": "markdown",
   "id": "f7ed1b3c-8001-4590-ab37-376cc0d7ae6c",
   "metadata": {},
   "source": [
    "# Orders by department "
   ]
  },
  {
   "cell_type": "code",
   "execution_count": 16,
   "id": "8c12ea02-e2c1-40a3-b3b4-57c5801ec7a5",
   "metadata": {},
   "outputs": [],
   "source": [
    "# Group by 'department' and count the number of orders\n",
    "department_orders = merged['department'].value_counts()"
   ]
  },
  {
   "cell_type": "code",
   "execution_count": 17,
   "id": "e0a93663-f964-4d3f-91f3-5191ec1d72ce",
   "metadata": {},
   "outputs": [
    {
     "data": {
      "text/plain": [
       "department\n",
       "produce            8608701\n",
       "dairy eggs         4909353\n",
       "snacks             2620533\n",
       "beverages          2437586\n",
       "frozen             1996444\n",
       "pantry             1681391\n",
       "bakery             1060612\n",
       "canned goods        954449\n",
       "deli                947553\n",
       "dry goods pasta     773993\n",
       "household           658975\n",
       "meat seafood        637276\n",
       "breakfast           633469\n",
       "personal care       399739\n",
       "babies              391707\n",
       "international       240869\n",
       "alcohol             134867\n",
       "pets                 87805\n",
       "missing              63389\n",
       "other                32572\n",
       "bulk                 31998\n",
       "Name: count, dtype: int64"
      ]
     },
     "execution_count": 17,
     "metadata": {},
     "output_type": "execute_result"
    }
   ],
   "source": [
    "department_orders"
   ]
  },
  {
   "cell_type": "code",
   "execution_count": 18,
   "id": "c67b6376-96ad-4acc-821e-ab33c9a419d1",
   "metadata": {},
   "outputs": [
    {
     "data": {
      "image/png": "[encoded data removed]",
      "text/plain": [
       "<Figure size 1000x600 with 1 Axes>"
      ]
     },
     "metadata": {},
     "output_type": "display_data"
    }
   ],
   "source": [
    "# Plotting the department orders\n",
    "dept_orders=plt.figure(figsize=(10, 6))\n",
    "department_orders.sort_values(ascending=False).plot(kind='bar', color='skyblue')\n",
    "plt.title('Number of Orders by Department', fontsize=16)\n",
    "plt.xlabel('Department', fontsize=12)\n",
    "plt.ylabel('Number of Orders', fontsize=12)\n",
    "plt.xticks(rotation=45, ha='right')\n",
    "# Show the plot\n",
    "plt.tight_layout()\n",
    "plt.show()"
   ]
  },
  {
   "cell_type": "code",
   "execution_count": 19,
   "id": "2cd7025f-ca9e-4ada-ae28-a4b53925ac3a",
   "metadata": {},
   "outputs": [],
   "source": [
    "#Export Orders by Department Bar chart\n",
    "dept_orders.figure.savefig('/Users/lordsonobire/Documents/Data Immersion/Achievement 4/Instacart Basket Analysis/04 Analysis/Visualizations/orders_by_dept.png')"
   ]
  },
  {
   "cell_type": "code",
   "execution_count": 20,
   "id": "b940f6d5-e134-4417-acd8-b0db7715755f",
   "metadata": {},
   "outputs": [],
   "source": [
    "# creating age flag \n",
    "merged.loc[merged['Age'] <= 25, 'Age_group'] = 'Young adult'\n",
    "merged.loc[(merged['Age'] > 25) & (merged['Age'] <= 44), 'Age_group'] = 'Adult'\n",
    "merged.loc[(merged['Age'] > 44) & (merged['Age'] <= 64), 'Age_group'] = 'Middle-aged'\n",
    "merged.loc[merged['Age'] > 64, 'Age_group'] = 'Senior'"
   ]
  },
  {
   "cell_type": "code",
   "execution_count": 21,
   "id": "0333806c-625e-4afc-bd0e-f248fbea3193",
   "metadata": {},
   "outputs": [
    {
     "data": {
      "text/plain": [
       "Age_group\n",
       "Middle-aged    9169173\n",
       "Adult          8722963\n",
       "Senior         7754560\n",
       "Young adult    3656585\n",
       "Name: count, dtype: int64"
      ]
     },
     "execution_count": 21,
     "metadata": {},
     "output_type": "execute_result"
    }
   ],
   "source": [
    "merged['Age_group'].value_counts(dropna = False)"
   ]
  },
  {
   "cell_type": "code",
   "execution_count": 22,
   "id": "3a58f11c-467c-4c22-be7c-6c20aca7c9d0",
   "metadata": {},
   "outputs": [],
   "source": [
    "# Create an income group flag\n",
    "merged.loc[merged['Income'] <= 55000, 'income_group'] = 'low-income'\n",
    "merged.loc[(merged['Income'] > 55000) & (merged['Income'] <= 150000), 'income_group'] = 'middle-income'\n",
    "merged.loc[merged['Income'] > 150000, 'income_group'] = 'high-income'"
   ]
  },
  {
   "cell_type": "code",
   "execution_count": 23,
   "id": "2295a82c-ef25-4141-8fcd-69225a8b6250",
   "metadata": {},
   "outputs": [
    {
     "data": {
      "text/plain": [
       "income_group\n",
       "middle-income    21414125\n",
       "low-income        4199182\n",
       "high-income       3689974\n",
       "Name: count, dtype: int64"
      ]
     },
     "execution_count": 23,
     "metadata": {},
     "output_type": "execute_result"
    }
   ],
   "source": [
    "merged['income_group'].value_counts(dropna = False)"
   ]
  },
  {
   "cell_type": "code",
   "execution_count": 24,
   "id": "01a81584-13dc-40aa-942c-a1d41a0030e1",
   "metadata": {},
   "outputs": [],
   "source": [
    "# Create a dependents flag\n",
    "merged.loc[merged['number of dependants'] == 0, 'dependants_flag'] = 'no dependants'\n",
    "merged.loc[merged['number of dependants'] >= 1, 'dependants_flag'] = 'has dependants'"
   ]
  },
  {
   "cell_type": "code",
   "execution_count": 25,
   "id": "af525cc0-d170-4f80-a145-4c0fa7ac31d0",
   "metadata": {},
   "outputs": [
    {
     "data": {
      "text/plain": [
       "dependants_flag\n",
       "has dependants    21978394\n",
       "no dependants      7324887\n",
       "Name: count, dtype: int64"
      ]
     },
     "execution_count": 25,
     "metadata": {},
     "output_type": "execute_result"
    }
   ],
   "source": [
    "merged['dependants_flag'].value_counts(dropna = False)"
   ]
  },
  {
   "cell_type": "code",
   "execution_count": 26,
   "id": "255a1e9f-e40e-4b36-9b9f-edf1124e74ff",
   "metadata": {},
   "outputs": [],
   "source": [
    "result = []\n",
    "for value in merged['State']:\n",
    "    if value in ('Maine'\t'New Hampshire'\t'Vermont'\t'Massachusetts'\t'Rhode Island'\t'Connecticut'\t'New York'\t'Pennsylvania'\t'New Jersey'\n",
    ") :\n",
    "        result.append('Northeast')\n",
    "    elif value in ('Wisconsin'\t'Michigan'\t'Illinois'\t'Indiana'\t'Ohio'\t'North Dakota'\t'South Dakota'\t'Nebraska'\t'Kansas'\t'Minnesota'\t'Iowa'\t'Missouri'\n",
    ") :\n",
    "        result.append('Midwest')\n",
    "    elif value in ('Delaware'\t'Maryland'\t'District of Columbia'\t'Virginia'\t'West Virginia'\t'North Carolina'\t'South Carolina'\t'Georgia'\t'Florida'\t'Kentucky'\t'Tennessee'\t'Mississippi'\t'Alabama'\t'Oklahoma'\t'Texas'\t'Arkansas'\t'Louisiana'\n",
    ") :\n",
    "        result.append('South')\n",
    "    elif value in ('Idaho'\t'Montana'\t'Wyoming'\t'Nevada'\t'Utah'\t'Colorado'\t'Arizona'\t'New Mexico'\t'Alaska'\t'Washington'\t'Oregon'\t'California'\t'Hawaii'\n",
    ") :\n",
    "        result.append('West')\n",
    "    else :\n",
    "        result.append('Not a region')"
   ]
  },
  {
   "cell_type": "code",
   "execution_count": 27,
   "id": "43359940-dd40-4591-aa72-7b51f2e36c95",
   "metadata": {},
   "outputs": [],
   "source": [
    "#Assigning the values in result[] to new column Region\n",
    "merged['region']=result"
   ]
  },
  {
   "cell_type": "code",
   "execution_count": 28,
   "id": "f4fe5b24-622e-462c-a6b4-ae4f4f9b2220",
   "metadata": {},
   "outputs": [
    {
     "data": {
      "text/plain": [
       "region\n",
       "South        9756873\n",
       "West         7505128\n",
       "Midwest      6868419\n",
       "Northeast    5172861\n",
       "Name: count, dtype: int64"
      ]
     },
     "execution_count": 28,
     "metadata": {},
     "output_type": "execute_result"
    }
   ],
   "source": [
    "merged['region'].value_counts()"
   ]
  },
  {
   "cell_type": "markdown",
   "id": "78362c2d-098b-437d-9619-374abab0a048",
   "metadata": {},
   "source": [
    "# Age group vs Department"
   ]
  },
  {
   "cell_type": "code",
   "execution_count": 30,
   "id": "efda2a6b-3eb9-4f71-a95c-bdd75971ffc8",
   "metadata": {},
   "outputs": [],
   "source": [
    "# Create a crosstab between Age Group and Department\n",
    "age_dept_crosstab = pd.crosstab(merged['Age_group'], merged['department'], dropna=False)"
   ]
  },
  {
   "cell_type": "code",
   "execution_count": 31,
   "id": "7bf9671a-6a98-4070-9e67-05fc8690c07f",
   "metadata": {},
   "outputs": [
    {
     "data": {
      "text/html": [
       "<div>\n",
       "<style scoped>\n",
       "    .dataframe tbody tr th:only-of-type {\n",
       "        vertical-align: middle;\n",
       "    }\n",
       "\n",
       "    .dataframe tbody tr th {\n",
       "        vertical-align: top;\n",
       "    }\n",
       "\n",
       "    .dataframe thead th {\n",
       "        text-align: right;\n",
       "    }\n",
       "</style>\n",
       "<table border=\"1\" class=\"dataframe\">\n",
       "  <thead>\n",
       "    <tr style=\"text-align: right;\">\n",
       "      <th>department</th>\n",
       "      <th>alcohol</th>\n",
       "      <th>babies</th>\n",
       "      <th>bakery</th>\n",
       "      <th>beverages</th>\n",
       "      <th>breakfast</th>\n",
       "      <th>bulk</th>\n",
       "      <th>canned goods</th>\n",
       "      <th>dairy eggs</th>\n",
       "      <th>deli</th>\n",
       "      <th>dry goods pasta</th>\n",
       "      <th>frozen</th>\n",
       "      <th>household</th>\n",
       "      <th>international</th>\n",
       "      <th>meat seafood</th>\n",
       "      <th>missing</th>\n",
       "      <th>other</th>\n",
       "      <th>pantry</th>\n",
       "      <th>personal care</th>\n",
       "      <th>pets</th>\n",
       "      <th>produce</th>\n",
       "      <th>snacks</th>\n",
       "    </tr>\n",
       "    <tr>\n",
       "      <th>Age_group</th>\n",
       "      <th></th>\n",
       "      <th></th>\n",
       "      <th></th>\n",
       "      <th></th>\n",
       "      <th></th>\n",
       "      <th></th>\n",
       "      <th></th>\n",
       "      <th></th>\n",
       "      <th></th>\n",
       "      <th></th>\n",
       "      <th></th>\n",
       "      <th></th>\n",
       "      <th></th>\n",
       "      <th></th>\n",
       "      <th></th>\n",
       "      <th></th>\n",
       "      <th></th>\n",
       "      <th></th>\n",
       "      <th></th>\n",
       "      <th></th>\n",
       "      <th></th>\n",
       "    </tr>\n",
       "  </thead>\n",
       "  <tbody>\n",
       "    <tr>\n",
       "      <th>Adult</th>\n",
       "      <td>39356</td>\n",
       "      <td>117616</td>\n",
       "      <td>316398</td>\n",
       "      <td>715416</td>\n",
       "      <td>187692</td>\n",
       "      <td>9435</td>\n",
       "      <td>285522</td>\n",
       "      <td>1469819</td>\n",
       "      <td>283358</td>\n",
       "      <td>229474</td>\n",
       "      <td>587720</td>\n",
       "      <td>195440</td>\n",
       "      <td>72169</td>\n",
       "      <td>188034</td>\n",
       "      <td>18738</td>\n",
       "      <td>9626</td>\n",
       "      <td>499353</td>\n",
       "      <td>118364</td>\n",
       "      <td>25446</td>\n",
       "      <td>2572853</td>\n",
       "      <td>781134</td>\n",
       "    </tr>\n",
       "    <tr>\n",
       "      <th>Middle-aged</th>\n",
       "      <td>43477</td>\n",
       "      <td>124057</td>\n",
       "      <td>332119</td>\n",
       "      <td>772033</td>\n",
       "      <td>199565</td>\n",
       "      <td>9880</td>\n",
       "      <td>297685</td>\n",
       "      <td>1529004</td>\n",
       "      <td>296563</td>\n",
       "      <td>241816</td>\n",
       "      <td>627551</td>\n",
       "      <td>205951</td>\n",
       "      <td>75089</td>\n",
       "      <td>198140</td>\n",
       "      <td>19894</td>\n",
       "      <td>10259</td>\n",
       "      <td>527099</td>\n",
       "      <td>126930</td>\n",
       "      <td>26594</td>\n",
       "      <td>2683329</td>\n",
       "      <td>822138</td>\n",
       "    </tr>\n",
       "    <tr>\n",
       "      <th>Senior</th>\n",
       "      <td>34183</td>\n",
       "      <td>101291</td>\n",
       "      <td>279817</td>\n",
       "      <td>648309</td>\n",
       "      <td>165273</td>\n",
       "      <td>8564</td>\n",
       "      <td>252134</td>\n",
       "      <td>1296733</td>\n",
       "      <td>250334</td>\n",
       "      <td>204580</td>\n",
       "      <td>531180</td>\n",
       "      <td>175739</td>\n",
       "      <td>63185</td>\n",
       "      <td>171141</td>\n",
       "      <td>16549</td>\n",
       "      <td>8464</td>\n",
       "      <td>445398</td>\n",
       "      <td>104507</td>\n",
       "      <td>23855</td>\n",
       "      <td>2283191</td>\n",
       "      <td>690133</td>\n",
       "    </tr>\n",
       "    <tr>\n",
       "      <th>Young adult</th>\n",
       "      <td>17851</td>\n",
       "      <td>48743</td>\n",
       "      <td>132278</td>\n",
       "      <td>301828</td>\n",
       "      <td>80939</td>\n",
       "      <td>4119</td>\n",
       "      <td>119108</td>\n",
       "      <td>613797</td>\n",
       "      <td>117298</td>\n",
       "      <td>98123</td>\n",
       "      <td>249993</td>\n",
       "      <td>81845</td>\n",
       "      <td>30426</td>\n",
       "      <td>79961</td>\n",
       "      <td>8208</td>\n",
       "      <td>4223</td>\n",
       "      <td>209541</td>\n",
       "      <td>49938</td>\n",
       "      <td>11910</td>\n",
       "      <td>1069328</td>\n",
       "      <td>327128</td>\n",
       "    </tr>\n",
       "  </tbody>\n",
       "</table>\n",
       "</div>"
      ],
      "text/plain": [
       "department   alcohol  babies  bakery  beverages  breakfast  bulk  \\\n",
       "Age_group                                                          \n",
       "Adult          39356  117616  316398     715416     187692  9435   \n",
       "Middle-aged    43477  124057  332119     772033     199565  9880   \n",
       "Senior         34183  101291  279817     648309     165273  8564   \n",
       "Young adult    17851   48743  132278     301828      80939  4119   \n",
       "\n",
       "department   canned goods  dairy eggs    deli  dry goods pasta  frozen  \\\n",
       "Age_group                                                                \n",
       "Adult              285522     1469819  283358           229474  587720   \n",
       "Middle-aged        297685     1529004  296563           241816  627551   \n",
       "Senior             252134     1296733  250334           204580  531180   \n",
       "Young adult        119108      613797  117298            98123  249993   \n",
       "\n",
       "department   household  international  meat seafood  missing  other  pantry  \\\n",
       "Age_group                                                                     \n",
       "Adult           195440          72169        188034    18738   9626  499353   \n",
       "Middle-aged     205951          75089        198140    19894  10259  527099   \n",
       "Senior          175739          63185        171141    16549   8464  445398   \n",
       "Young adult      81845          30426         79961     8208   4223  209541   \n",
       "\n",
       "department   personal care   pets  produce  snacks  \n",
       "Age_group                                           \n",
       "Adult               118364  25446  2572853  781134  \n",
       "Middle-aged         126930  26594  2683329  822138  \n",
       "Senior              104507  23855  2283191  690133  \n",
       "Young adult          49938  11910  1069328  327128  "
      ]
     },
     "execution_count": 31,
     "metadata": {},
     "output_type": "execute_result"
    }
   ],
   "source": [
    "age_dept_crosstab"
   ]
  },
  {
   "cell_type": "code",
   "execution_count": 32,
   "id": "b90dfbac-08a2-44a2-a3ce-7f6618a5d580",
   "metadata": {},
   "outputs": [
    {
     "data": {
      "text/plain": [
       "<matplotlib.legend.Legend at 0x1690392e0>"
      ]
     },
     "execution_count": 32,
     "metadata": {},
     "output_type": "execute_result"
    },
    {
     "data": {
      "image/png": "[encoded data removed]",
      "text/plain": [
       "<Figure size 1400x1000 with 1 Axes>"
      ]
     },
     "metadata": {},
     "output_type": "display_data"
    }
   ],
   "source": [
    "# Agegroup vs Department bar chart\n",
    "age_dept_bar = age_dept_crosstab.plot(kind = 'barh', figsize=(14,10))\n",
    "plt.title('Department Sales by Age Group')\n",
    "plt.xlabel('products count')\n",
    "plt.ylabel('age group')\n",
    "# Move legend outside of plot\n",
    "plt.legend(title='Department', bbox_to_anchor=(1.05, 1), loc='upper left', fontsize=12, title_fontsize=14)"
   ]
  },
  {
   "cell_type": "code",
   "execution_count": 33,
   "id": "5ad2af6d-12ac-417d-a9b5-91db0830743b",
   "metadata": {},
   "outputs": [],
   "source": [
    "#Export Department vs Age group Bar chart\n",
    "age_dept_bar.figure.savefig('/Users/lordsonobire/Documents/Data Immersion/Achievement 4/Instacart Basket Analysis/04 Analysis/Visualizations/dept_vs_Age group.png')"
   ]
  },
  {
   "cell_type": "markdown",
   "id": "a102ae19-3886-4477-9242-dbae2b554327",
   "metadata": {},
   "source": [
    "# Order day of the week vs Income group"
   ]
  },
  {
   "cell_type": "code",
   "execution_count": 35,
   "id": "70c70be5-9d06-430c-ab68-608f35f60f82",
   "metadata": {},
   "outputs": [],
   "source": [
    "# Create a crosstab between income_group and order_day_of_week\n",
    "income_order_crosstab = pd.crosstab(merged['order_day_of_week'], merged['income_group'])"
   ]
  },
  {
   "cell_type": "code",
   "execution_count": 36,
   "id": "589d8ffb-975b-4aad-b602-28827f3a93f9",
   "metadata": {},
   "outputs": [
    {
     "data": {
      "text/html": [
       "<div>\n",
       "<style scoped>\n",
       "    .dataframe tbody tr th:only-of-type {\n",
       "        vertical-align: middle;\n",
       "    }\n",
       "\n",
       "    .dataframe tbody tr th {\n",
       "        vertical-align: top;\n",
       "    }\n",
       "\n",
       "    .dataframe thead th {\n",
       "        text-align: right;\n",
       "    }\n",
       "</style>\n",
       "<table border=\"1\" class=\"dataframe\">\n",
       "  <thead>\n",
       "    <tr style=\"text-align: right;\">\n",
       "      <th>income_group</th>\n",
       "      <th>high-income</th>\n",
       "      <th>low-income</th>\n",
       "      <th>middle-income</th>\n",
       "    </tr>\n",
       "    <tr>\n",
       "      <th>order_day_of_week</th>\n",
       "      <th></th>\n",
       "      <th></th>\n",
       "      <th></th>\n",
       "    </tr>\n",
       "  </thead>\n",
       "  <tbody>\n",
       "    <tr>\n",
       "      <th>0</th>\n",
       "      <td>709596</td>\n",
       "      <td>667420</td>\n",
       "      <td>4191283</td>\n",
       "    </tr>\n",
       "    <tr>\n",
       "      <th>1</th>\n",
       "      <td>635536</td>\n",
       "      <td>817947</td>\n",
       "      <td>3672117</td>\n",
       "    </tr>\n",
       "    <tr>\n",
       "      <th>2</th>\n",
       "      <td>474315</td>\n",
       "      <td>587551</td>\n",
       "      <td>2752198</td>\n",
       "    </tr>\n",
       "    <tr>\n",
       "      <th>3</th>\n",
       "      <td>436372</td>\n",
       "      <td>529930</td>\n",
       "      <td>2512372</td>\n",
       "    </tr>\n",
       "    <tr>\n",
       "      <th>4</th>\n",
       "      <td>434920</td>\n",
       "      <td>519714</td>\n",
       "      <td>2487057</td>\n",
       "    </tr>\n",
       "    <tr>\n",
       "      <th>5</th>\n",
       "      <td>477699</td>\n",
       "      <td>583675</td>\n",
       "      <td>2768643</td>\n",
       "    </tr>\n",
       "    <tr>\n",
       "      <th>6</th>\n",
       "      <td>521536</td>\n",
       "      <td>492945</td>\n",
       "      <td>3030455</td>\n",
       "    </tr>\n",
       "  </tbody>\n",
       "</table>\n",
       "</div>"
      ],
      "text/plain": [
       "income_group       high-income  low-income  middle-income\n",
       "order_day_of_week                                        \n",
       "0                       709596      667420        4191283\n",
       "1                       635536      817947        3672117\n",
       "2                       474315      587551        2752198\n",
       "3                       436372      529930        2512372\n",
       "4                       434920      519714        2487057\n",
       "5                       477699      583675        2768643\n",
       "6                       521536      492945        3030455"
      ]
     },
     "execution_count": 36,
     "metadata": {},
     "output_type": "execute_result"
    }
   ],
   "source": [
    "income_order_crosstab"
   ]
  },
  {
   "cell_type": "code",
   "execution_count": 37,
   "id": "d31646da-79ef-4d70-a859-0e4c70ed00eb",
   "metadata": {},
   "outputs": [
    {
     "data": {
      "text/plain": [
       "<Figure size 1000x600 with 0 Axes>"
      ]
     },
     "metadata": {},
     "output_type": "display_data"
    },
    {
     "data": {
      "image/png": "[encoded data removed]",
      "text/plain": [
       "<Figure size 1200x700 with 1 Axes>"
      ]
     },
     "metadata": {},
     "output_type": "display_data"
    }
   ],
   "source": [
    "#order_dow_vs_income_group\n",
    "Order_dow_vs_inc_group=plt.figure(figsize=(10, 6))\n",
    "income_order_crosstab.plot(kind='bar', figsize=(12, 7), colormap='viridis', edgecolor='black')\n",
    "plt.title('Income Group vs Order Day of the Week (Grouped Bar Chart)', fontsize=16)\n",
    "plt.xlabel('Order Day of the Week', fontsize=12)\n",
    "plt.ylabel('Number of Orders', fontsize=12)\n",
    "plt.xticks(rotation=0)\n",
    "plt.legend(title='Income Group')\n",
    "plt.tight_layout()\n",
    "plt.show()"
   ]
  },
  {
   "cell_type": "code",
   "execution_count": 38,
   "id": "bd5767ff-1190-4e1f-bf70-4f0afcbf3c03",
   "metadata": {},
   "outputs": [],
   "source": [
    "#Export income group vs order day of the week\n",
    "Order_dow_vs_inc_group.figure.savefig('/Users/lordsonobire/Documents/Data Immersion/Achievement 4/Instacart Basket Analysis/04 Analysis/Visualizations/dOrder_dow_vs_inc_group.bar.png')"
   ]
  },
  {
   "cell_type": "markdown",
   "id": "5063c798-18d5-42d9-b371-3b8b17f0eb65",
   "metadata": {},
   "source": [
    "# Aggregate the max, mean, and min variables on a customer-profile level for usage frequency and expenditure."
   ]
  },
  {
   "cell_type": "code",
   "execution_count": 40,
   "id": "12c2f18d-33dd-4ed7-bc3e-bcfa638de94a",
   "metadata": {},
   "outputs": [],
   "source": [
    "# Group by 'Age_group' as customers-profile and aggregate usage frequency and expenditure\n",
    "Age_group_profile_agg = merged.groupby('Age_group').agg({\n",
    "    'days_since_prior_order': ['max', 'mean', 'min'],  # Usage frequency\n",
    "    'max_order': ['max', 'mean', 'min']                      # Expenditure\n",
    "})"
   ]
  },
  {
   "cell_type": "code",
   "execution_count": 41,
   "id": "3cdf0e3f-9b5e-486c-a8cf-a1f1388b0379",
   "metadata": {},
   "outputs": [
    {
     "data": {
      "text/html": [
       "<div>\n",
       "<style scoped>\n",
       "    .dataframe tbody tr th:only-of-type {\n",
       "        vertical-align: middle;\n",
       "    }\n",
       "\n",
       "    .dataframe tbody tr th {\n",
       "        vertical-align: top;\n",
       "    }\n",
       "\n",
       "    .dataframe thead tr th {\n",
       "        text-align: left;\n",
       "    }\n",
       "\n",
       "    .dataframe thead tr:last-of-type th {\n",
       "        text-align: right;\n",
       "    }\n",
       "</style>\n",
       "<table border=\"1\" class=\"dataframe\">\n",
       "  <thead>\n",
       "    <tr>\n",
       "      <th></th>\n",
       "      <th colspan=\"3\" halign=\"left\">days_since_prior_order</th>\n",
       "      <th colspan=\"3\" halign=\"left\">max_order</th>\n",
       "    </tr>\n",
       "    <tr>\n",
       "      <th></th>\n",
       "      <th>max</th>\n",
       "      <th>mean</th>\n",
       "      <th>min</th>\n",
       "      <th>max</th>\n",
       "      <th>mean</th>\n",
       "      <th>min</th>\n",
       "    </tr>\n",
       "    <tr>\n",
       "      <th>Age_group</th>\n",
       "      <th></th>\n",
       "      <th></th>\n",
       "      <th></th>\n",
       "      <th></th>\n",
       "      <th></th>\n",
       "      <th></th>\n",
       "    </tr>\n",
       "  </thead>\n",
       "  <tbody>\n",
       "    <tr>\n",
       "      <th>Adult</th>\n",
       "      <td>30.0</td>\n",
       "      <td>10.815262</td>\n",
       "      <td>0.0</td>\n",
       "      <td>99</td>\n",
       "      <td>35.261564</td>\n",
       "      <td>5</td>\n",
       "    </tr>\n",
       "    <tr>\n",
       "      <th>Middle-aged</th>\n",
       "      <td>30.0</td>\n",
       "      <td>10.825714</td>\n",
       "      <td>0.0</td>\n",
       "      <td>99</td>\n",
       "      <td>35.325121</td>\n",
       "      <td>5</td>\n",
       "    </tr>\n",
       "    <tr>\n",
       "      <th>Senior</th>\n",
       "      <td>30.0</td>\n",
       "      <td>10.791788</td>\n",
       "      <td>0.0</td>\n",
       "      <td>99</td>\n",
       "      <td>35.173922</td>\n",
       "      <td>5</td>\n",
       "    </tr>\n",
       "    <tr>\n",
       "      <th>Young adult</th>\n",
       "      <td>30.0</td>\n",
       "      <td>10.799071</td>\n",
       "      <td>0.0</td>\n",
       "      <td>99</td>\n",
       "      <td>35.393195</td>\n",
       "      <td>5</td>\n",
       "    </tr>\n",
       "  </tbody>\n",
       "</table>\n",
       "</div>"
      ],
      "text/plain": [
       "            days_since_prior_order                 max_order               \n",
       "                               max       mean  min       max       mean min\n",
       "Age_group                                                                  \n",
       "Adult                         30.0  10.815262  0.0        99  35.261564   5\n",
       "Middle-aged                   30.0  10.825714  0.0        99  35.325121   5\n",
       "Senior                        30.0  10.791788  0.0        99  35.173922   5\n",
       "Young adult                   30.0  10.799071  0.0        99  35.393195   5"
      ]
     },
     "execution_count": 41,
     "metadata": {},
     "output_type": "execute_result"
    }
   ],
   "source": [
    "Age_group_profile_agg"
   ]
  },
  {
   "cell_type": "markdown",
   "id": "3b48452f-068c-4450-93ee-6bfdf55d60d0",
   "metadata": {},
   "source": [
    "# Income group"
   ]
  },
  {
   "cell_type": "code",
   "execution_count": 43,
   "id": "2bab000b-da93-4cfd-b3ea-18ba39470004",
   "metadata": {},
   "outputs": [],
   "source": [
    "# Group by 'Income_group' as customers-profile and aggregate usage frequency and expenditure\n",
    "Income_group_profile_agg = merged.groupby('income_group').agg({\n",
    "    'days_since_prior_order': ['max', 'mean', 'min'],  # Usage frequency\n",
    "    'max_order': ['max', 'mean', 'min']                      # Expenditure\n",
    "})"
   ]
  },
  {
   "cell_type": "code",
   "execution_count": 44,
   "id": "d22df8e4-a110-491a-a922-3b4239240e66",
   "metadata": {},
   "outputs": [
    {
     "data": {
      "text/html": [
       "<div>\n",
       "<style scoped>\n",
       "    .dataframe tbody tr th:only-of-type {\n",
       "        vertical-align: middle;\n",
       "    }\n",
       "\n",
       "    .dataframe tbody tr th {\n",
       "        vertical-align: top;\n",
       "    }\n",
       "\n",
       "    .dataframe thead tr th {\n",
       "        text-align: left;\n",
       "    }\n",
       "\n",
       "    .dataframe thead tr:last-of-type th {\n",
       "        text-align: right;\n",
       "    }\n",
       "</style>\n",
       "<table border=\"1\" class=\"dataframe\">\n",
       "  <thead>\n",
       "    <tr>\n",
       "      <th></th>\n",
       "      <th colspan=\"3\" halign=\"left\">days_since_prior_order</th>\n",
       "      <th colspan=\"3\" halign=\"left\">max_order</th>\n",
       "    </tr>\n",
       "    <tr>\n",
       "      <th></th>\n",
       "      <th>max</th>\n",
       "      <th>mean</th>\n",
       "      <th>min</th>\n",
       "      <th>max</th>\n",
       "      <th>mean</th>\n",
       "      <th>min</th>\n",
       "    </tr>\n",
       "    <tr>\n",
       "      <th>income_group</th>\n",
       "      <th></th>\n",
       "      <th></th>\n",
       "      <th></th>\n",
       "      <th></th>\n",
       "      <th></th>\n",
       "      <th></th>\n",
       "    </tr>\n",
       "  </thead>\n",
       "  <tbody>\n",
       "    <tr>\n",
       "      <th>high-income</th>\n",
       "      <td>30.0</td>\n",
       "      <td>10.684293</td>\n",
       "      <td>0.0</td>\n",
       "      <td>99</td>\n",
       "      <td>35.677039</td>\n",
       "      <td>5</td>\n",
       "    </tr>\n",
       "    <tr>\n",
       "      <th>low-income</th>\n",
       "      <td>30.0</td>\n",
       "      <td>11.132305</td>\n",
       "      <td>0.0</td>\n",
       "      <td>99</td>\n",
       "      <td>33.622806</td>\n",
       "      <td>5</td>\n",
       "    </tr>\n",
       "    <tr>\n",
       "      <th>middle-income</th>\n",
       "      <td>30.0</td>\n",
       "      <td>10.768870</td>\n",
       "      <td>0.0</td>\n",
       "      <td>99</td>\n",
       "      <td>35.529276</td>\n",
       "      <td>5</td>\n",
       "    </tr>\n",
       "  </tbody>\n",
       "</table>\n",
       "</div>"
      ],
      "text/plain": [
       "              days_since_prior_order                 max_order               \n",
       "                                 max       mean  min       max       mean min\n",
       "income_group                                                                 \n",
       "high-income                     30.0  10.684293  0.0        99  35.677039   5\n",
       "low-income                      30.0  11.132305  0.0        99  33.622806   5\n",
       "middle-income                   30.0  10.768870  0.0        99  35.529276   5"
      ]
     },
     "execution_count": 44,
     "metadata": {},
     "output_type": "execute_result"
    }
   ],
   "source": [
    "Income_group_profile_agg"
   ]
  },
  {
   "cell_type": "markdown",
   "id": "d63f4ae5-ec6f-4956-a712-b3705814c5a2",
   "metadata": {},
   "source": [
    "# Dependant group"
   ]
  },
  {
   "cell_type": "code",
   "execution_count": 46,
   "id": "ce4ab1bb-a36e-4745-ba2c-114cccd56529",
   "metadata": {},
   "outputs": [],
   "source": [
    "# Group by 'dependant_group' as customers-profile and aggregate usage frequency and expenditure\n",
    "dependant_group_profile_agg = merged.groupby('dependants_flag').agg({\n",
    "    'days_since_prior_order': ['max', 'mean', 'min'],  # Usage frequency\n",
    "    'max_order': ['max', 'mean', 'min']                      # Expenditure\n",
    "})"
   ]
  },
  {
   "cell_type": "code",
   "execution_count": 47,
   "id": "f78f0064-465e-49e3-8dd7-bae216d4fbde",
   "metadata": {},
   "outputs": [
    {
     "data": {
      "text/html": [
       "<div>\n",
       "<style scoped>\n",
       "    .dataframe tbody tr th:only-of-type {\n",
       "        vertical-align: middle;\n",
       "    }\n",
       "\n",
       "    .dataframe tbody tr th {\n",
       "        vertical-align: top;\n",
       "    }\n",
       "\n",
       "    .dataframe thead tr th {\n",
       "        text-align: left;\n",
       "    }\n",
       "\n",
       "    .dataframe thead tr:last-of-type th {\n",
       "        text-align: right;\n",
       "    }\n",
       "</style>\n",
       "<table border=\"1\" class=\"dataframe\">\n",
       "  <thead>\n",
       "    <tr>\n",
       "      <th></th>\n",
       "      <th colspan=\"3\" halign=\"left\">days_since_prior_order</th>\n",
       "      <th colspan=\"3\" halign=\"left\">max_order</th>\n",
       "    </tr>\n",
       "    <tr>\n",
       "      <th></th>\n",
       "      <th>max</th>\n",
       "      <th>mean</th>\n",
       "      <th>min</th>\n",
       "      <th>max</th>\n",
       "      <th>mean</th>\n",
       "      <th>min</th>\n",
       "    </tr>\n",
       "    <tr>\n",
       "      <th>dependants_flag</th>\n",
       "      <th></th>\n",
       "      <th></th>\n",
       "      <th></th>\n",
       "      <th></th>\n",
       "      <th></th>\n",
       "      <th></th>\n",
       "    </tr>\n",
       "  </thead>\n",
       "  <tbody>\n",
       "    <tr>\n",
       "      <th>has dependants</th>\n",
       "      <td>30.0</td>\n",
       "      <td>10.816416</td>\n",
       "      <td>0.0</td>\n",
       "      <td>99</td>\n",
       "      <td>35.187316</td>\n",
       "      <td>5</td>\n",
       "    </tr>\n",
       "    <tr>\n",
       "      <th>no dependants</th>\n",
       "      <td>30.0</td>\n",
       "      <td>10.791951</td>\n",
       "      <td>0.0</td>\n",
       "      <td>99</td>\n",
       "      <td>35.536832</td>\n",
       "      <td>5</td>\n",
       "    </tr>\n",
       "  </tbody>\n",
       "</table>\n",
       "</div>"
      ],
      "text/plain": [
       "                days_since_prior_order                 max_order             \\\n",
       "                                   max       mean  min       max       mean   \n",
       "dependants_flag                                                               \n",
       "has dependants                    30.0  10.816416  0.0        99  35.187316   \n",
       "no dependants                     30.0  10.791951  0.0        99  35.536832   \n",
       "\n",
       "                     \n",
       "                min  \n",
       "dependants_flag      \n",
       "has dependants    5  \n",
       "no dependants     5  "
      ]
     },
     "execution_count": 47,
     "metadata": {},
     "output_type": "execute_result"
    }
   ],
   "source": [
    "dependant_group_profile_agg"
   ]
  },
  {
   "cell_type": "code",
   "execution_count": 48,
   "id": "42f391a3-dfe6-4af4-8c87-723be4d3d2cd",
   "metadata": {},
   "outputs": [],
   "source": [
    "# Create a subset of customer profiles and show the total price of each order\n",
    "customer_profile =merged.groupby(['user_id', 'Gender', 'State', 'region', 'number of dependants', 'Family Status', 'Age_group', 'order_number', 'order_day_of_week', 'order_hour_of_day', 'loyalty_flag', 'dependants_flag', 'income_group', 'spending_flag'])['prices'].sum().reset_index()"
   ]
  },
  {
   "cell_type": "code",
   "execution_count": 49,
   "id": "0ca9ec20-23be-4c0e-ac41-028edbf49a4c",
   "metadata": {},
   "outputs": [
    {
     "data": {
      "text/html": [
       "<div>\n",
       "<style scoped>\n",
       "    .dataframe tbody tr th:only-of-type {\n",
       "        vertical-align: middle;\n",
       "    }\n",
       "\n",
       "    .dataframe tbody tr th {\n",
       "        vertical-align: top;\n",
       "    }\n",
       "\n",
       "    .dataframe thead th {\n",
       "        text-align: right;\n",
       "    }\n",
       "</style>\n",
       "<table border=\"1\" class=\"dataframe\">\n",
       "  <thead>\n",
       "    <tr style=\"text-align: right;\">\n",
       "      <th></th>\n",
       "      <th>user_id</th>\n",
       "      <th>Gender</th>\n",
       "      <th>State</th>\n",
       "      <th>region</th>\n",
       "      <th>number of dependants</th>\n",
       "      <th>Family Status</th>\n",
       "      <th>Age_group</th>\n",
       "      <th>order_number</th>\n",
       "      <th>order_day_of_week</th>\n",
       "      <th>order_hour_of_day</th>\n",
       "      <th>loyalty_flag</th>\n",
       "      <th>dependants_flag</th>\n",
       "      <th>income_group</th>\n",
       "      <th>spending_flag</th>\n",
       "      <th>prices</th>\n",
       "    </tr>\n",
       "  </thead>\n",
       "  <tbody>\n",
       "    <tr>\n",
       "      <th>0</th>\n",
       "      <td>1</td>\n",
       "      <td>Female</td>\n",
       "      <td>Alabama</td>\n",
       "      <td>South</td>\n",
       "      <td>3</td>\n",
       "      <td>married</td>\n",
       "      <td>Adult</td>\n",
       "      <td>2</td>\n",
       "      <td>3</td>\n",
       "      <td>7</td>\n",
       "      <td>New customer</td>\n",
       "      <td>has dependants</td>\n",
       "      <td>low-income</td>\n",
       "      <td>Low spender</td>\n",
       "      <td>35.4</td>\n",
       "    </tr>\n",
       "    <tr>\n",
       "      <th>1</th>\n",
       "      <td>1</td>\n",
       "      <td>Female</td>\n",
       "      <td>Alabama</td>\n",
       "      <td>South</td>\n",
       "      <td>3</td>\n",
       "      <td>married</td>\n",
       "      <td>Adult</td>\n",
       "      <td>3</td>\n",
       "      <td>3</td>\n",
       "      <td>12</td>\n",
       "      <td>New customer</td>\n",
       "      <td>has dependants</td>\n",
       "      <td>low-income</td>\n",
       "      <td>Low spender</td>\n",
       "      <td>28.2</td>\n",
       "    </tr>\n",
       "    <tr>\n",
       "      <th>2</th>\n",
       "      <td>1</td>\n",
       "      <td>Female</td>\n",
       "      <td>Alabama</td>\n",
       "      <td>South</td>\n",
       "      <td>3</td>\n",
       "      <td>married</td>\n",
       "      <td>Adult</td>\n",
       "      <td>4</td>\n",
       "      <td>4</td>\n",
       "      <td>7</td>\n",
       "      <td>New customer</td>\n",
       "      <td>has dependants</td>\n",
       "      <td>low-income</td>\n",
       "      <td>Low spender</td>\n",
       "      <td>26.0</td>\n",
       "    </tr>\n",
       "    <tr>\n",
       "      <th>3</th>\n",
       "      <td>1</td>\n",
       "      <td>Female</td>\n",
       "      <td>Alabama</td>\n",
       "      <td>South</td>\n",
       "      <td>3</td>\n",
       "      <td>married</td>\n",
       "      <td>Adult</td>\n",
       "      <td>5</td>\n",
       "      <td>4</td>\n",
       "      <td>15</td>\n",
       "      <td>New customer</td>\n",
       "      <td>has dependants</td>\n",
       "      <td>low-income</td>\n",
       "      <td>Low spender</td>\n",
       "      <td>57.0</td>\n",
       "    </tr>\n",
       "    <tr>\n",
       "      <th>4</th>\n",
       "      <td>1</td>\n",
       "      <td>Female</td>\n",
       "      <td>Alabama</td>\n",
       "      <td>South</td>\n",
       "      <td>3</td>\n",
       "      <td>married</td>\n",
       "      <td>Adult</td>\n",
       "      <td>6</td>\n",
       "      <td>2</td>\n",
       "      <td>7</td>\n",
       "      <td>New customer</td>\n",
       "      <td>has dependants</td>\n",
       "      <td>low-income</td>\n",
       "      <td>Low spender</td>\n",
       "      <td>25.0</td>\n",
       "    </tr>\n",
       "  </tbody>\n",
       "</table>\n",
       "</div>"
      ],
      "text/plain": [
       "   user_id  Gender    State region  number of dependants Family Status  \\\n",
       "0        1  Female  Alabama  South                     3       married   \n",
       "1        1  Female  Alabama  South                     3       married   \n",
       "2        1  Female  Alabama  South                     3       married   \n",
       "3        1  Female  Alabama  South                     3       married   \n",
       "4        1  Female  Alabama  South                     3       married   \n",
       "\n",
       "  Age_group  order_number  order_day_of_week  order_hour_of_day  loyalty_flag  \\\n",
       "0     Adult             2                  3                  7  New customer   \n",
       "1     Adult             3                  3                 12  New customer   \n",
       "2     Adult             4                  4                  7  New customer   \n",
       "3     Adult             5                  4                 15  New customer   \n",
       "4     Adult             6                  2                  7  New customer   \n",
       "\n",
       "  dependants_flag income_group spending_flag  prices  \n",
       "0  has dependants   low-income   Low spender    35.4  \n",
       "1  has dependants   low-income   Low spender    28.2  \n",
       "2  has dependants   low-income   Low spender    26.0  \n",
       "3  has dependants   low-income   Low spender    57.0  \n",
       "4  has dependants   low-income   Low spender    25.0  "
      ]
     },
     "execution_count": 49,
     "metadata": {},
     "output_type": "execute_result"
    }
   ],
   "source": [
    "customer_profile.head()"
   ]
  },
  {
   "cell_type": "markdown",
   "id": "5cfd9215-1f05-4f57-9a79-7b2198f1e856",
   "metadata": {},
   "source": [
    "# Compare your customer profiles with regions and departments. Can you identify a link between them? Customers may demonstrate different behaviors across regions, which could make this information important."
   ]
  },
  {
   "cell_type": "code",
   "execution_count": 51,
   "id": "1c147506-46a0-42c4-ab7a-5858f121dadd",
   "metadata": {},
   "outputs": [],
   "source": [
    "# crosstab regions vs department\n",
    "region_dept_cross = pd.crosstab(merged['region'], merged['department'], dropna = False)"
   ]
  },
  {
   "cell_type": "code",
   "execution_count": 52,
   "id": "511b3dc8-9d0c-48f0-a833-c78c735c60bc",
   "metadata": {},
   "outputs": [
    {
     "data": {
      "text/html": [
       "<div>\n",
       "<style scoped>\n",
       "    .dataframe tbody tr th:only-of-type {\n",
       "        vertical-align: middle;\n",
       "    }\n",
       "\n",
       "    .dataframe tbody tr th {\n",
       "        vertical-align: top;\n",
       "    }\n",
       "\n",
       "    .dataframe thead th {\n",
       "        text-align: right;\n",
       "    }\n",
       "</style>\n",
       "<table border=\"1\" class=\"dataframe\">\n",
       "  <thead>\n",
       "    <tr style=\"text-align: right;\">\n",
       "      <th>department</th>\n",
       "      <th>alcohol</th>\n",
       "      <th>babies</th>\n",
       "      <th>bakery</th>\n",
       "      <th>beverages</th>\n",
       "      <th>breakfast</th>\n",
       "      <th>bulk</th>\n",
       "      <th>canned goods</th>\n",
       "      <th>dairy eggs</th>\n",
       "      <th>deli</th>\n",
       "      <th>dry goods pasta</th>\n",
       "      <th>frozen</th>\n",
       "      <th>household</th>\n",
       "      <th>international</th>\n",
       "      <th>meat seafood</th>\n",
       "      <th>missing</th>\n",
       "      <th>other</th>\n",
       "      <th>pantry</th>\n",
       "      <th>personal care</th>\n",
       "      <th>pets</th>\n",
       "      <th>produce</th>\n",
       "      <th>snacks</th>\n",
       "    </tr>\n",
       "    <tr>\n",
       "      <th>region</th>\n",
       "      <th></th>\n",
       "      <th></th>\n",
       "      <th></th>\n",
       "      <th></th>\n",
       "      <th></th>\n",
       "      <th></th>\n",
       "      <th></th>\n",
       "      <th></th>\n",
       "      <th></th>\n",
       "      <th></th>\n",
       "      <th></th>\n",
       "      <th></th>\n",
       "      <th></th>\n",
       "      <th></th>\n",
       "      <th></th>\n",
       "      <th></th>\n",
       "      <th></th>\n",
       "      <th></th>\n",
       "      <th></th>\n",
       "      <th></th>\n",
       "      <th></th>\n",
       "    </tr>\n",
       "  </thead>\n",
       "  <tbody>\n",
       "    <tr>\n",
       "      <th>Midwest</th>\n",
       "      <td>31765</td>\n",
       "      <td>91346</td>\n",
       "      <td>247398</td>\n",
       "      <td>567075</td>\n",
       "      <td>147308</td>\n",
       "      <td>7586</td>\n",
       "      <td>223777</td>\n",
       "      <td>1148875</td>\n",
       "      <td>221302</td>\n",
       "      <td>182168</td>\n",
       "      <td>468610</td>\n",
       "      <td>157243</td>\n",
       "      <td>57057</td>\n",
       "      <td>149257</td>\n",
       "      <td>15251</td>\n",
       "      <td>7529</td>\n",
       "      <td>396334</td>\n",
       "      <td>94724</td>\n",
       "      <td>20161</td>\n",
       "      <td>2022591</td>\n",
       "      <td>611062</td>\n",
       "    </tr>\n",
       "    <tr>\n",
       "      <th>Northeast</th>\n",
       "      <td>23238</td>\n",
       "      <td>69509</td>\n",
       "      <td>188722</td>\n",
       "      <td>439108</td>\n",
       "      <td>111471</td>\n",
       "      <td>5370</td>\n",
       "      <td>166884</td>\n",
       "      <td>867769</td>\n",
       "      <td>168462</td>\n",
       "      <td>135225</td>\n",
       "      <td>348200</td>\n",
       "      <td>117464</td>\n",
       "      <td>41956</td>\n",
       "      <td>111993</td>\n",
       "      <td>11256</td>\n",
       "      <td>5934</td>\n",
       "      <td>295186</td>\n",
       "      <td>70458</td>\n",
       "      <td>16792</td>\n",
       "      <td>1510525</td>\n",
       "      <td>467339</td>\n",
       "    </tr>\n",
       "    <tr>\n",
       "      <th>South</th>\n",
       "      <td>45585</td>\n",
       "      <td>132985</td>\n",
       "      <td>351632</td>\n",
       "      <td>814364</td>\n",
       "      <td>210569</td>\n",
       "      <td>10662</td>\n",
       "      <td>318438</td>\n",
       "      <td>1633885</td>\n",
       "      <td>314796</td>\n",
       "      <td>256831</td>\n",
       "      <td>668262</td>\n",
       "      <td>216480</td>\n",
       "      <td>79669</td>\n",
       "      <td>211671</td>\n",
       "      <td>21305</td>\n",
       "      <td>10984</td>\n",
       "      <td>557937</td>\n",
       "      <td>134139</td>\n",
       "      <td>28160</td>\n",
       "      <td>2870522</td>\n",
       "      <td>867997</td>\n",
       "    </tr>\n",
       "    <tr>\n",
       "      <th>West</th>\n",
       "      <td>34279</td>\n",
       "      <td>97867</td>\n",
       "      <td>272860</td>\n",
       "      <td>617039</td>\n",
       "      <td>164121</td>\n",
       "      <td>8380</td>\n",
       "      <td>245350</td>\n",
       "      <td>1258824</td>\n",
       "      <td>242993</td>\n",
       "      <td>199769</td>\n",
       "      <td>511372</td>\n",
       "      <td>167788</td>\n",
       "      <td>62187</td>\n",
       "      <td>164355</td>\n",
       "      <td>15577</td>\n",
       "      <td>8125</td>\n",
       "      <td>431934</td>\n",
       "      <td>100418</td>\n",
       "      <td>22692</td>\n",
       "      <td>2205063</td>\n",
       "      <td>674135</td>\n",
       "    </tr>\n",
       "  </tbody>\n",
       "</table>\n",
       "</div>"
      ],
      "text/plain": [
       "department  alcohol  babies  bakery  beverages  breakfast   bulk  \\\n",
       "region                                                             \n",
       "Midwest       31765   91346  247398     567075     147308   7586   \n",
       "Northeast     23238   69509  188722     439108     111471   5370   \n",
       "South         45585  132985  351632     814364     210569  10662   \n",
       "West          34279   97867  272860     617039     164121   8380   \n",
       "\n",
       "department  canned goods  dairy eggs    deli  dry goods pasta  frozen  \\\n",
       "region                                                                  \n",
       "Midwest           223777     1148875  221302           182168  468610   \n",
       "Northeast         166884      867769  168462           135225  348200   \n",
       "South             318438     1633885  314796           256831  668262   \n",
       "West              245350     1258824  242993           199769  511372   \n",
       "\n",
       "department  household  international  meat seafood  missing  other  pantry  \\\n",
       "region                                                                       \n",
       "Midwest        157243          57057        149257    15251   7529  396334   \n",
       "Northeast      117464          41956        111993    11256   5934  295186   \n",
       "South          216480          79669        211671    21305  10984  557937   \n",
       "West           167788          62187        164355    15577   8125  431934   \n",
       "\n",
       "department  personal care   pets  produce  snacks  \n",
       "region                                             \n",
       "Midwest             94724  20161  2022591  611062  \n",
       "Northeast           70458  16792  1510525  467339  \n",
       "South              134139  28160  2870522  867997  \n",
       "West               100418  22692  2205063  674135  "
      ]
     },
     "execution_count": 52,
     "metadata": {},
     "output_type": "execute_result"
    }
   ],
   "source": [
    "region_dept_cross"
   ]
  },
  {
   "cell_type": "code",
   "execution_count": 53,
   "id": "2bf9291e-b1a1-4e61-a256-b18e74af8195",
   "metadata": {},
   "outputs": [
    {
     "data": {
      "text/plain": [
       "<matplotlib.legend.Legend at 0x167837170>"
      ]
     },
     "execution_count": 53,
     "metadata": {},
     "output_type": "execute_result"
    },
    {
     "data": {
      "image/png": "[encoded data removed]",
      "text/plain": [
       "<Figure size 1400x1000 with 1 Axes>"
      ]
     },
     "metadata": {},
     "output_type": "display_data"
    }
   ],
   "source": [
    "# bar chart\n",
    "region_dept_bar = region_dept_cross.plot(kind = 'bar', figsize=(14,10))\n",
    "plt.title('Department Sales by Region')\n",
    "plt.xlabel('region')\n",
    "plt.ylabel('products count')\n",
    "# Move legend outside of plot\n",
    "plt.legend(title='Department', bbox_to_anchor=(1.05, 1), loc='upper left', fontsize=12, title_fontsize=14)"
   ]
  },
  {
   "cell_type": "code",
   "execution_count": 54,
   "id": "d5ec9ac1-fcfe-4253-bd56-6c21a910f366",
   "metadata": {},
   "outputs": [],
   "source": [
    "#Export region vs Department Bar chart\n",
    "region_dept_bar.figure.savefig('/Users/lordsonobire/Documents/Data Immersion/Achievement 4/Instacart Basket Analysis/04 Analysis/Visualizations/region_dept_bar.png')"
   ]
  },
  {
   "cell_type": "code",
   "execution_count": 55,
   "id": "9798a2b1-ddf0-4919-abe9-df8b136fde5a",
   "metadata": {},
   "outputs": [
    {
     "data": {
      "text/plain": [
       "Text(0.5, 0, '')"
      ]
     },
     "execution_count": 55,
     "metadata": {},
     "output_type": "execute_result"
    },
    {
     "data": {
      "image/png": "[encoded data removed]",
      "text/plain": [
       "<Figure size 640x480 with 1 Axes>"
      ]
     },
     "metadata": {},
     "output_type": "display_data"
    }
   ],
   "source": [
    "# bar chart orders by day of week\n",
    "orders_dow_bar = merged['order_day_of_week'].value_counts().sort_index().plot.bar(color = 'blue')\n",
    "orders_dow_bar.set_title('Orders by Day of Week')\n",
    "orders_dow_bar.set_xticklabels(['Saturday', 'Sunday', 'Monday', 'Tuesday', 'Wednesday', 'Thursday', 'Friday'], rotation=0)\n",
    "orders_dow_bar.set_xlabel(\"\")"
   ]
  },
  {
   "cell_type": "code",
   "execution_count": 56,
   "id": "6b9e264c-e204-4aae-b6ea-64bf428cb738",
   "metadata": {},
   "outputs": [],
   "source": [
    "# Export bar chart\n",
    "orders_dow_bar.figure.savefig('/Users/lordsonobire/Documents/Data Immersion/Achievement 4/Instacart Basket Analysis/04 Analysis/Visualizations/orders_dow_bar.png')"
   ]
  },
  {
   "cell_type": "code",
   "execution_count": 57,
   "id": "d30bc671-81d1-44b2-89be-7b16bb07a571",
   "metadata": {},
   "outputs": [
    {
     "data": {
      "text/plain": [
       "Text(0.5, 0, 'Hour of Day (24 hr clock)')"
      ]
     },
     "execution_count": 57,
     "metadata": {},
     "output_type": "execute_result"
    },
    {
     "data": {
      "image/png": "[encoded data removed]",
      "text/plain": [
       "<Figure size 640x480 with 1 Axes>"
      ]
     },
     "metadata": {},
     "output_type": "display_data"
    }
   ],
   "source": [
    "# histogram of hours of the day\n",
    "hod_hist=merged['order_hour_of_day'].plot.hist(bins = 24)\n",
    "plt.title('Orders by Hour of Day')\n",
    "plt.xlabel('Hour of Day (24 hr clock)')"
   ]
  },
  {
   "cell_type": "code",
   "execution_count": 58,
   "id": "bd99148e-bc5e-4cd2-bade-419250654d60",
   "metadata": {},
   "outputs": [],
   "source": [
    "# Export histogram\n",
    "hod_hist.figure.savefig('/Users/lordsonobire/Documents/Data Immersion/Achievement 4/Instacart Basket Analysis/04 Analysis/Visualizations/hod_hist.png')"
   ]
  },
  {
   "cell_type": "code",
   "execution_count": 59,
   "id": "fba7adff-2771-4e66-8468-1ff6bc65d62e",
   "metadata": {},
   "outputs": [],
   "source": [
    "# Crosstab loyalty with age group\n",
    "loyalty_income_cross = pd.crosstab(merged['loyalty_flag'], merged['income_group'], dropna = False)"
   ]
  },
  {
   "cell_type": "code",
   "execution_count": 60,
   "id": "a57abd29-b29f-4348-a575-0561b3c2cf8a",
   "metadata": {},
   "outputs": [
    {
     "data": {
      "text/html": [
       "<div>\n",
       "<style scoped>\n",
       "    .dataframe tbody tr th:only-of-type {\n",
       "        vertical-align: middle;\n",
       "    }\n",
       "\n",
       "    .dataframe tbody tr th {\n",
       "        vertical-align: top;\n",
       "    }\n",
       "\n",
       "    .dataframe thead th {\n",
       "        text-align: right;\n",
       "    }\n",
       "</style>\n",
       "<table border=\"1\" class=\"dataframe\">\n",
       "  <thead>\n",
       "    <tr style=\"text-align: right;\">\n",
       "      <th>income_group</th>\n",
       "      <th>high-income</th>\n",
       "      <th>low-income</th>\n",
       "      <th>middle-income</th>\n",
       "    </tr>\n",
       "    <tr>\n",
       "      <th>loyalty_flag</th>\n",
       "      <th></th>\n",
       "      <th></th>\n",
       "      <th></th>\n",
       "    </tr>\n",
       "  </thead>\n",
       "  <tbody>\n",
       "    <tr>\n",
       "      <th>Loyal customer</th>\n",
       "      <td>1286969</td>\n",
       "      <td>1356620</td>\n",
       "      <td>7451792</td>\n",
       "    </tr>\n",
       "    <tr>\n",
       "      <th>New customer</th>\n",
       "      <td>494917</td>\n",
       "      <td>685239</td>\n",
       "      <td>2946053</td>\n",
       "    </tr>\n",
       "    <tr>\n",
       "      <th>Regular customer</th>\n",
       "      <td>1908088</td>\n",
       "      <td>2157323</td>\n",
       "      <td>11016280</td>\n",
       "    </tr>\n",
       "  </tbody>\n",
       "</table>\n",
       "</div>"
      ],
      "text/plain": [
       "income_group      high-income  low-income  middle-income\n",
       "loyalty_flag                                            \n",
       "Loyal customer        1286969     1356620        7451792\n",
       "New customer           494917      685239        2946053\n",
       "Regular customer      1908088     2157323       11016280"
      ]
     },
     "execution_count": 60,
     "metadata": {},
     "output_type": "execute_result"
    }
   ],
   "source": [
    "loyalty_income_cross"
   ]
  },
  {
   "cell_type": "code",
   "execution_count": 61,
   "id": "bcaeed6b-223b-496a-b854-42060e9f62d4",
   "metadata": {},
   "outputs": [
    {
     "data": {
      "text/plain": [
       "(array([0, 1, 2]),\n",
       " [Text(0, 0, 'Loyal customer'),\n",
       "  Text(1, 0, 'New customer'),\n",
       "  Text(2, 0, 'Regular customer')])"
      ]
     },
     "execution_count": 61,
     "metadata": {},
     "output_type": "execute_result"
    },
    {
     "data": {
      "image/png": "[encoded data removed]",
      "text/plain": [
       "<Figure size 640x480 with 1 Axes>"
      ]
     },
     "metadata": {},
     "output_type": "display_data"
    }
   ],
   "source": [
    "# bar chart\n",
    "loyalty_income_bar = loyalty_income_cross.plot.bar()\n",
    "plt.title('Loyalty by Income Group')\n",
    "plt.xlabel('')\n",
    "plt.ylabel('count')\n",
    "plt.xticks(rotation=0)"
   ]
  },
  {
   "cell_type": "code",
   "execution_count": 62,
   "id": "3b52240c-be5b-4f7d-9915-9cfccbce991c",
   "metadata": {},
   "outputs": [],
   "source": [
    "# Export the chart\n",
    "loyalty_income_bar.figure.savefig('/Users/lordsonobire/Documents/Data Immersion/Achievement 4/Instacart Basket Analysis/04 Analysis/Visualizations/loyalty_income_group_bar.png')"
   ]
  },
  {
   "cell_type": "code",
   "execution_count": 63,
   "id": "4f32873d-09b7-4089-b4df-99610815705b",
   "metadata": {},
   "outputs": [],
   "source": [
    "# Crosstab loyalty with spending\n",
    "loyalty_spender_cross = pd.crosstab(merged['loyalty_flag'], merged['spending_flag'], dropna = False)"
   ]
  },
  {
   "cell_type": "code",
   "execution_count": 64,
   "id": "a43ad15f-7910-41ef-b8c8-c687e2576898",
   "metadata": {},
   "outputs": [
    {
     "data": {
      "text/html": [
       "<div>\n",
       "<style scoped>\n",
       "    .dataframe tbody tr th:only-of-type {\n",
       "        vertical-align: middle;\n",
       "    }\n",
       "\n",
       "    .dataframe tbody tr th {\n",
       "        vertical-align: top;\n",
       "    }\n",
       "\n",
       "    .dataframe thead th {\n",
       "        text-align: right;\n",
       "    }\n",
       "</style>\n",
       "<table border=\"1\" class=\"dataframe\">\n",
       "  <thead>\n",
       "    <tr style=\"text-align: right;\">\n",
       "      <th>spending_flag</th>\n",
       "      <th>High spender</th>\n",
       "      <th>Low spender</th>\n",
       "    </tr>\n",
       "    <tr>\n",
       "      <th>loyalty_flag</th>\n",
       "      <th></th>\n",
       "      <th></th>\n",
       "    </tr>\n",
       "  </thead>\n",
       "  <tbody>\n",
       "    <tr>\n",
       "      <th>Loyal customer</th>\n",
       "      <td>211798</td>\n",
       "      <td>9883583</td>\n",
       "    </tr>\n",
       "    <tr>\n",
       "      <th>New customer</th>\n",
       "      <td>74169</td>\n",
       "      <td>4052040</td>\n",
       "    </tr>\n",
       "    <tr>\n",
       "      <th>Regular customer</th>\n",
       "      <td>284307</td>\n",
       "      <td>14797384</td>\n",
       "    </tr>\n",
       "  </tbody>\n",
       "</table>\n",
       "</div>"
      ],
      "text/plain": [
       "spending_flag     High spender  Low spender\n",
       "loyalty_flag                               \n",
       "Loyal customer          211798      9883583\n",
       "New customer             74169      4052040\n",
       "Regular customer        284307     14797384"
      ]
     },
     "execution_count": 64,
     "metadata": {},
     "output_type": "execute_result"
    }
   ],
   "source": [
    "loyalty_spender_cross"
   ]
  },
  {
   "cell_type": "code",
   "execution_count": 65,
   "id": "b38c0607-3519-4202-8cc3-0736973a770a",
   "metadata": {},
   "outputs": [
    {
     "data": {
      "text/plain": [
       "(array([0, 1, 2]),\n",
       " [Text(0, 0, 'Loyal customer'),\n",
       "  Text(1, 0, 'New customer'),\n",
       "  Text(2, 0, 'Regular customer')])"
      ]
     },
     "execution_count": 65,
     "metadata": {},
     "output_type": "execute_result"
    },
    {
     "data": {
      "image/png": "[encoded data removed]",
      "text/plain": [
       "<Figure size 640x480 with 1 Axes>"
      ]
     },
     "metadata": {},
     "output_type": "display_data"
    }
   ],
   "source": [
    "# bar chart\n",
    "loyalty_spender_bar = loyalty_spender_cross.plot.bar()\n",
    "plt.title('Loyalty by Spender flag')\n",
    "plt.xlabel('')\n",
    "plt.ylabel('count')\n",
    "plt.xticks(rotation=0)"
   ]
  },
  {
   "cell_type": "code",
   "execution_count": 66,
   "id": "0b7b8c69-ab52-4a8f-b77f-26f33413ff18",
   "metadata": {},
   "outputs": [],
   "source": [
    "# Export the chart\n",
    "loyalty_spender_bar.figure.savefig('/Users/lordsonobire/Documents/Data Immersion/Achievement 4/Instacart Basket Analysis/04 Analysis/Visualizations/loyalty_spender_bar.png')"
   ]
  },
  {
   "cell_type": "code",
   "execution_count": 67,
   "id": "7df7f753-0b39-44ea-aec5-ceae3ca196c3",
   "metadata": {},
   "outputs": [],
   "source": [
    "# Exclude low-activity customers from dataframe\n",
    "df_filtered = merged[merged['activity_flag'] == 'high-activity customer']"
   ]
  },
  {
   "cell_type": "code",
   "execution_count": 126,
   "id": "85710690-3264-473f-9e64-895ee2123c3d",
   "metadata": {},
   "outputs": [],
   "source": [
    "# Cross-tabulate income group with department\n",
    "product_prefs = pd.crosstab(df_filtered['department'], df_filtered['income_group'])"
   ]
  },
  {
   "cell_type": "code",
   "execution_count": 130,
   "id": "84e9b9a8-2d30-4f70-9a24-6849ef388302",
   "metadata": {},
   "outputs": [
    {
     "data": {
      "image/png": "[encoded data removed]",
      "text/plain": [
       "<Figure size 1000x600 with 1 Axes>"
      ]
     },
     "metadata": {},
     "output_type": "display_data"
    }
   ],
   "source": [
    "#bar chart\n",
    "product_prefs_bar=product_prefs.plot(kind='bar', stacked=True, figsize=(10, 6), title=\"Product Preferences by Income Group\")\n",
    "plt.xlabel(\"Department\")\n",
    "plt.ylabel(\"Order Count\")\n",
    "plt.show()"
   ]
  },
  {
   "cell_type": "code",
   "execution_count": 132,
   "id": "75b90548-4e29-4087-944d-e5abb9abb597",
   "metadata": {},
   "outputs": [],
   "source": [
    "# Export the chart\n",
    "product_prefs_bar.figure.savefig('/Users/lordsonobire/Documents/Data Immersion/Achievement 4/Instacart Basket Analysis/04 Analysis/Visualizations/product_prefs_bar.png')"
   ]
  },
  {
   "cell_type": "code",
   "execution_count": null,
   "id": "310059ef-18ae-4815-bb2a-3941b0249391",
   "metadata": {},
   "outputs": [],
   "source": []
  }
 ],
 "metadata": {
  "kernelspec": {
   "display_name": "Python 3 (ipykernel)",
   "language": "python",
   "name": "python3"
  },
  "language_info": {
   "codemirror_mode": {
    "name": "ipython",
    "version": 3
   },
   "file_extension": ".py",
   "mimetype": "text/x-python",
   "name": "python",
   "nbconvert_exporter": "python",
   "pygments_lexer": "ipython3",
   "version": "3.12.7"
  }
 },
 "nbformat": 4,
 "nbformat_minor": 5
}
