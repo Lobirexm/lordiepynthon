{
 "cells": [
  {
   "cell_type": "markdown",
   "id": "57426252-b27f-4424-9b3b-aa62ac62ea35",
   "metadata": {},
   "source": [
    "# Import Libraries"
   ]
  },
  {
   "cell_type": "code",
   "execution_count": 3,
   "id": "80cc8766-83bc-4ec2-96df-9b6ebb30bd1b",
   "metadata": {},
   "outputs": [],
   "source": [
    "#import libraries\n",
    "import pandas as pd\n",
    "import numpy as np\n",
    "import os\n",
    "import matplotlib.pyplot as plt\n",
    "import seaborn as sns\n",
    "import scipy"
   ]
  },
  {
   "cell_type": "code",
   "execution_count": 4,
   "id": "e30e0f98-c4eb-43bf-a066-1fe3ab0759dd",
   "metadata": {},
   "outputs": [],
   "source": [
    "#import fully merged data frame \n",
    "df_fullmerged=pd.read_pickle(r'/Users/lordsonobire/Documents/Data Immersion/Achievement 4/Instacart Basket Analysis/02 Data/Prepared Data/ords_prods_cus_merged.pkl')"
   ]
  },
  {
   "cell_type": "code",
   "execution_count": 5,
   "id": "d1ef3ad5-c1e6-4bed-afc6-15976f0708ba",
   "metadata": {},
   "outputs": [],
   "source": [
    "#display all columns as rows \n",
    "pd.options.display.max_rows = None\n",
    "pd.options.display.max_columns = None "
   ]
  },
  {
   "cell_type": "code",
   "execution_count": 6,
   "id": "86570a84-43ee-4f77-b5fd-3f581ead5986",
   "metadata": {},
   "outputs": [
    {
     "data": {
      "text/html": [
       "<div>\n",
       "<style scoped>\n",
       "    .dataframe tbody tr th:only-of-type {\n",
       "        vertical-align: middle;\n",
       "    }\n",
       "\n",
       "    .dataframe tbody tr th {\n",
       "        vertical-align: top;\n",
       "    }\n",
       "\n",
       "    .dataframe thead th {\n",
       "        text-align: right;\n",
       "    }\n",
       "</style>\n",
       "<table border=\"1\" class=\"dataframe\">\n",
       "  <thead>\n",
       "    <tr style=\"text-align: right;\">\n",
       "      <th></th>\n",
       "      <th>user_id</th>\n",
       "      <th>First Name</th>\n",
       "      <th>Last Name</th>\n",
       "      <th>Gender</th>\n",
       "      <th>State</th>\n",
       "      <th>Age</th>\n",
       "      <th>Date Joined</th>\n",
       "      <th>number of dependants</th>\n",
       "      <th>Family Status</th>\n",
       "      <th>Income</th>\n",
       "      <th>order_id</th>\n",
       "      <th>order_number</th>\n",
       "      <th>order_day_of_week</th>\n",
       "      <th>order_hour_of_day</th>\n",
       "      <th>days_since_prior_order</th>\n",
       "      <th>product_id</th>\n",
       "      <th>add_to_cart_order</th>\n",
       "      <th>reordered</th>\n",
       "      <th>product_name</th>\n",
       "      <th>aisle_id</th>\n",
       "      <th>department_id</th>\n",
       "      <th>prices</th>\n",
       "      <th>match</th>\n",
       "      <th>price_range_loc</th>\n",
       "      <th>busiest_day</th>\n",
       "      <th>busiest_days</th>\n",
       "      <th>busiest_period_of_day</th>\n",
       "      <th>max_order</th>\n",
       "      <th>loyalty_flag</th>\n",
       "      <th>avg_product_price</th>\n",
       "      <th>spending_flag</th>\n",
       "      <th>median_days_between_orders</th>\n",
       "      <th>order_frequency_flag</th>\n",
       "    </tr>\n",
       "  </thead>\n",
       "  <tbody>\n",
       "    <tr>\n",
       "      <th>0</th>\n",
       "      <td>26711</td>\n",
       "      <td>Deborah</td>\n",
       "      <td>Esquivel</td>\n",
       "      <td>Female</td>\n",
       "      <td>Missouri</td>\n",
       "      <td>48</td>\n",
       "      <td>1/1/2017</td>\n",
       "      <td>3</td>\n",
       "      <td>married</td>\n",
       "      <td>165665</td>\n",
       "      <td>423547</td>\n",
       "      <td>2</td>\n",
       "      <td>2</td>\n",
       "      <td>9</td>\n",
       "      <td>14.0</td>\n",
       "      <td>38928</td>\n",
       "      <td>1</td>\n",
       "      <td>0</td>\n",
       "      <td>0% Greek Strained Yogurt</td>\n",
       "      <td>120</td>\n",
       "      <td>16</td>\n",
       "      <td>12.6</td>\n",
       "      <td>both</td>\n",
       "      <td>Mid-range product</td>\n",
       "      <td>Regularly busy</td>\n",
       "      <td>Regularly busy</td>\n",
       "      <td>Most orders</td>\n",
       "      <td>8</td>\n",
       "      <td>New customer</td>\n",
       "      <td>8.205882</td>\n",
       "      <td>Low spender</td>\n",
       "      <td>19.0</td>\n",
       "      <td>Regular customer</td>\n",
       "    </tr>\n",
       "    <tr>\n",
       "      <th>1</th>\n",
       "      <td>26711</td>\n",
       "      <td>Deborah</td>\n",
       "      <td>Esquivel</td>\n",
       "      <td>Female</td>\n",
       "      <td>Missouri</td>\n",
       "      <td>48</td>\n",
       "      <td>1/1/2017</td>\n",
       "      <td>3</td>\n",
       "      <td>married</td>\n",
       "      <td>165665</td>\n",
       "      <td>2524893</td>\n",
       "      <td>3</td>\n",
       "      <td>3</td>\n",
       "      <td>11</td>\n",
       "      <td>30.0</td>\n",
       "      <td>38928</td>\n",
       "      <td>1</td>\n",
       "      <td>1</td>\n",
       "      <td>0% Greek Strained Yogurt</td>\n",
       "      <td>120</td>\n",
       "      <td>16</td>\n",
       "      <td>12.6</td>\n",
       "      <td>both</td>\n",
       "      <td>Mid-range product</td>\n",
       "      <td>Regularly busy</td>\n",
       "      <td>Least busy</td>\n",
       "      <td>Most orders</td>\n",
       "      <td>8</td>\n",
       "      <td>New customer</td>\n",
       "      <td>8.205882</td>\n",
       "      <td>Low spender</td>\n",
       "      <td>19.0</td>\n",
       "      <td>Regular customer</td>\n",
       "    </tr>\n",
       "    <tr>\n",
       "      <th>2</th>\n",
       "      <td>26711</td>\n",
       "      <td>Deborah</td>\n",
       "      <td>Esquivel</td>\n",
       "      <td>Female</td>\n",
       "      <td>Missouri</td>\n",
       "      <td>48</td>\n",
       "      <td>1/1/2017</td>\n",
       "      <td>3</td>\n",
       "      <td>married</td>\n",
       "      <td>165665</td>\n",
       "      <td>2524893</td>\n",
       "      <td>3</td>\n",
       "      <td>3</td>\n",
       "      <td>11</td>\n",
       "      <td>30.0</td>\n",
       "      <td>6184</td>\n",
       "      <td>2</td>\n",
       "      <td>1</td>\n",
       "      <td>Clementines</td>\n",
       "      <td>32</td>\n",
       "      <td>4</td>\n",
       "      <td>4.3</td>\n",
       "      <td>both</td>\n",
       "      <td>Low-range product</td>\n",
       "      <td>Regularly busy</td>\n",
       "      <td>Least busy</td>\n",
       "      <td>Most orders</td>\n",
       "      <td>8</td>\n",
       "      <td>New customer</td>\n",
       "      <td>8.205882</td>\n",
       "      <td>Low spender</td>\n",
       "      <td>19.0</td>\n",
       "      <td>Regular customer</td>\n",
       "    </tr>\n",
       "    <tr>\n",
       "      <th>3</th>\n",
       "      <td>26711</td>\n",
       "      <td>Deborah</td>\n",
       "      <td>Esquivel</td>\n",
       "      <td>Female</td>\n",
       "      <td>Missouri</td>\n",
       "      <td>48</td>\n",
       "      <td>1/1/2017</td>\n",
       "      <td>3</td>\n",
       "      <td>married</td>\n",
       "      <td>165665</td>\n",
       "      <td>2524893</td>\n",
       "      <td>3</td>\n",
       "      <td>3</td>\n",
       "      <td>11</td>\n",
       "      <td>30.0</td>\n",
       "      <td>47402</td>\n",
       "      <td>3</td>\n",
       "      <td>0</td>\n",
       "      <td>Fuji Apples</td>\n",
       "      <td>24</td>\n",
       "      <td>4</td>\n",
       "      <td>7.1</td>\n",
       "      <td>both</td>\n",
       "      <td>Mid-range product</td>\n",
       "      <td>Regularly busy</td>\n",
       "      <td>Least busy</td>\n",
       "      <td>Most orders</td>\n",
       "      <td>8</td>\n",
       "      <td>New customer</td>\n",
       "      <td>8.205882</td>\n",
       "      <td>Low spender</td>\n",
       "      <td>19.0</td>\n",
       "      <td>Regular customer</td>\n",
       "    </tr>\n",
       "    <tr>\n",
       "      <th>4</th>\n",
       "      <td>26711</td>\n",
       "      <td>Deborah</td>\n",
       "      <td>Esquivel</td>\n",
       "      <td>Female</td>\n",
       "      <td>Missouri</td>\n",
       "      <td>48</td>\n",
       "      <td>1/1/2017</td>\n",
       "      <td>3</td>\n",
       "      <td>married</td>\n",
       "      <td>165665</td>\n",
       "      <td>2984525</td>\n",
       "      <td>4</td>\n",
       "      <td>1</td>\n",
       "      <td>17</td>\n",
       "      <td>19.0</td>\n",
       "      <td>38928</td>\n",
       "      <td>1</td>\n",
       "      <td>1</td>\n",
       "      <td>0% Greek Strained Yogurt</td>\n",
       "      <td>120</td>\n",
       "      <td>16</td>\n",
       "      <td>12.6</td>\n",
       "      <td>both</td>\n",
       "      <td>Mid-range product</td>\n",
       "      <td>Regularly busy</td>\n",
       "      <td>Busiest day</td>\n",
       "      <td>Average orders</td>\n",
       "      <td>8</td>\n",
       "      <td>New customer</td>\n",
       "      <td>8.205882</td>\n",
       "      <td>Low spender</td>\n",
       "      <td>19.0</td>\n",
       "      <td>Regular customer</td>\n",
       "    </tr>\n",
       "  </tbody>\n",
       "</table>\n",
       "</div>"
      ],
      "text/plain": [
       "   user_id First Name Last Name  Gender     State  Age Date Joined  \\\n",
       "0    26711    Deborah  Esquivel  Female  Missouri   48    1/1/2017   \n",
       "1    26711    Deborah  Esquivel  Female  Missouri   48    1/1/2017   \n",
       "2    26711    Deborah  Esquivel  Female  Missouri   48    1/1/2017   \n",
       "3    26711    Deborah  Esquivel  Female  Missouri   48    1/1/2017   \n",
       "4    26711    Deborah  Esquivel  Female  Missouri   48    1/1/2017   \n",
       "\n",
       "   number of dependants Family Status  Income  order_id  order_number  \\\n",
       "0                     3       married  165665    423547             2   \n",
       "1                     3       married  165665   2524893             3   \n",
       "2                     3       married  165665   2524893             3   \n",
       "3                     3       married  165665   2524893             3   \n",
       "4                     3       married  165665   2984525             4   \n",
       "\n",
       "   order_day_of_week  order_hour_of_day  days_since_prior_order  product_id  \\\n",
       "0                  2                  9                    14.0       38928   \n",
       "1                  3                 11                    30.0       38928   \n",
       "2                  3                 11                    30.0        6184   \n",
       "3                  3                 11                    30.0       47402   \n",
       "4                  1                 17                    19.0       38928   \n",
       "\n",
       "   add_to_cart_order  reordered              product_name  aisle_id  \\\n",
       "0                  1          0  0% Greek Strained Yogurt       120   \n",
       "1                  1          1  0% Greek Strained Yogurt       120   \n",
       "2                  2          1               Clementines        32   \n",
       "3                  3          0               Fuji Apples        24   \n",
       "4                  1          1  0% Greek Strained Yogurt       120   \n",
       "\n",
       "   department_id  prices match    price_range_loc     busiest_day  \\\n",
       "0             16    12.6  both  Mid-range product  Regularly busy   \n",
       "1             16    12.6  both  Mid-range product  Regularly busy   \n",
       "2              4     4.3  both  Low-range product  Regularly busy   \n",
       "3              4     7.1  both  Mid-range product  Regularly busy   \n",
       "4             16    12.6  both  Mid-range product  Regularly busy   \n",
       "\n",
       "     busiest_days busiest_period_of_day  max_order  loyalty_flag  \\\n",
       "0  Regularly busy           Most orders          8  New customer   \n",
       "1      Least busy           Most orders          8  New customer   \n",
       "2      Least busy           Most orders          8  New customer   \n",
       "3      Least busy           Most orders          8  New customer   \n",
       "4     Busiest day        Average orders          8  New customer   \n",
       "\n",
       "   avg_product_price spending_flag  median_days_between_orders  \\\n",
       "0           8.205882   Low spender                        19.0   \n",
       "1           8.205882   Low spender                        19.0   \n",
       "2           8.205882   Low spender                        19.0   \n",
       "3           8.205882   Low spender                        19.0   \n",
       "4           8.205882   Low spender                        19.0   \n",
       "\n",
       "  order_frequency_flag  \n",
       "0     Regular customer  \n",
       "1     Regular customer  \n",
       "2     Regular customer  \n",
       "3     Regular customer  \n",
       "4     Regular customer  "
      ]
     },
     "execution_count": 6,
     "metadata": {},
     "output_type": "execute_result"
    }
   ],
   "source": [
    "#check data frame \n",
    "df_fullmerged.head()"
   ]
  },
  {
   "cell_type": "markdown",
   "id": "02fae69c-5c8c-4ef6-aa12-336efb6b1ede",
   "metadata": {},
   "source": [
    "# Consider any security implications that might exist for this new data.\n",
    "The data frame contians 'personal identifiable information(PII) such as: 'user_id' 'first name and last name', 'Gender' , 'age', 'state', individually the columns don't pose a risk but i could solve this in 2 ways. #1. drop the first and last name columns . #2. Aggregate the date where possible, replace state with regions."
   ]
  },
  {
   "cell_type": "code",
   "execution_count": 8,
   "id": "851ce59f-d379-4359-ae11-740f6f51ec91",
   "metadata": {},
   "outputs": [],
   "source": [
    "#dropping first and last name columns\n",
    "df_fullmerged = df_fullmerged.drop(columns=['First Name', 'Last Name'])"
   ]
  },
  {
   "cell_type": "code",
   "execution_count": 9,
   "id": "13dbbd56-edd5-44a1-9fc9-25f792762944",
   "metadata": {},
   "outputs": [
    {
     "data": {
      "text/html": [
       "<div>\n",
       "<style scoped>\n",
       "    .dataframe tbody tr th:only-of-type {\n",
       "        vertical-align: middle;\n",
       "    }\n",
       "\n",
       "    .dataframe tbody tr th {\n",
       "        vertical-align: top;\n",
       "    }\n",
       "\n",
       "    .dataframe thead th {\n",
       "        text-align: right;\n",
       "    }\n",
       "</style>\n",
       "<table border=\"1\" class=\"dataframe\">\n",
       "  <thead>\n",
       "    <tr style=\"text-align: right;\">\n",
       "      <th></th>\n",
       "      <th>user_id</th>\n",
       "      <th>Gender</th>\n",
       "      <th>State</th>\n",
       "      <th>Age</th>\n",
       "      <th>Date Joined</th>\n",
       "      <th>number of dependants</th>\n",
       "      <th>Family Status</th>\n",
       "      <th>Income</th>\n",
       "      <th>order_id</th>\n",
       "      <th>order_number</th>\n",
       "      <th>order_day_of_week</th>\n",
       "      <th>order_hour_of_day</th>\n",
       "      <th>days_since_prior_order</th>\n",
       "      <th>product_id</th>\n",
       "      <th>add_to_cart_order</th>\n",
       "      <th>reordered</th>\n",
       "      <th>product_name</th>\n",
       "      <th>aisle_id</th>\n",
       "      <th>department_id</th>\n",
       "      <th>prices</th>\n",
       "      <th>match</th>\n",
       "      <th>price_range_loc</th>\n",
       "      <th>busiest_day</th>\n",
       "      <th>busiest_days</th>\n",
       "      <th>busiest_period_of_day</th>\n",
       "      <th>max_order</th>\n",
       "      <th>loyalty_flag</th>\n",
       "      <th>avg_product_price</th>\n",
       "      <th>spending_flag</th>\n",
       "      <th>median_days_between_orders</th>\n",
       "      <th>order_frequency_flag</th>\n",
       "    </tr>\n",
       "  </thead>\n",
       "  <tbody>\n",
       "    <tr>\n",
       "      <th>0</th>\n",
       "      <td>26711</td>\n",
       "      <td>Female</td>\n",
       "      <td>Missouri</td>\n",
       "      <td>48</td>\n",
       "      <td>1/1/2017</td>\n",
       "      <td>3</td>\n",
       "      <td>married</td>\n",
       "      <td>165665</td>\n",
       "      <td>423547</td>\n",
       "      <td>2</td>\n",
       "      <td>2</td>\n",
       "      <td>9</td>\n",
       "      <td>14.0</td>\n",
       "      <td>38928</td>\n",
       "      <td>1</td>\n",
       "      <td>0</td>\n",
       "      <td>0% Greek Strained Yogurt</td>\n",
       "      <td>120</td>\n",
       "      <td>16</td>\n",
       "      <td>12.6</td>\n",
       "      <td>both</td>\n",
       "      <td>Mid-range product</td>\n",
       "      <td>Regularly busy</td>\n",
       "      <td>Regularly busy</td>\n",
       "      <td>Most orders</td>\n",
       "      <td>8</td>\n",
       "      <td>New customer</td>\n",
       "      <td>8.205882</td>\n",
       "      <td>Low spender</td>\n",
       "      <td>19.0</td>\n",
       "      <td>Regular customer</td>\n",
       "    </tr>\n",
       "    <tr>\n",
       "      <th>1</th>\n",
       "      <td>26711</td>\n",
       "      <td>Female</td>\n",
       "      <td>Missouri</td>\n",
       "      <td>48</td>\n",
       "      <td>1/1/2017</td>\n",
       "      <td>3</td>\n",
       "      <td>married</td>\n",
       "      <td>165665</td>\n",
       "      <td>2524893</td>\n",
       "      <td>3</td>\n",
       "      <td>3</td>\n",
       "      <td>11</td>\n",
       "      <td>30.0</td>\n",
       "      <td>38928</td>\n",
       "      <td>1</td>\n",
       "      <td>1</td>\n",
       "      <td>0% Greek Strained Yogurt</td>\n",
       "      <td>120</td>\n",
       "      <td>16</td>\n",
       "      <td>12.6</td>\n",
       "      <td>both</td>\n",
       "      <td>Mid-range product</td>\n",
       "      <td>Regularly busy</td>\n",
       "      <td>Least busy</td>\n",
       "      <td>Most orders</td>\n",
       "      <td>8</td>\n",
       "      <td>New customer</td>\n",
       "      <td>8.205882</td>\n",
       "      <td>Low spender</td>\n",
       "      <td>19.0</td>\n",
       "      <td>Regular customer</td>\n",
       "    </tr>\n",
       "    <tr>\n",
       "      <th>2</th>\n",
       "      <td>26711</td>\n",
       "      <td>Female</td>\n",
       "      <td>Missouri</td>\n",
       "      <td>48</td>\n",
       "      <td>1/1/2017</td>\n",
       "      <td>3</td>\n",
       "      <td>married</td>\n",
       "      <td>165665</td>\n",
       "      <td>2524893</td>\n",
       "      <td>3</td>\n",
       "      <td>3</td>\n",
       "      <td>11</td>\n",
       "      <td>30.0</td>\n",
       "      <td>6184</td>\n",
       "      <td>2</td>\n",
       "      <td>1</td>\n",
       "      <td>Clementines</td>\n",
       "      <td>32</td>\n",
       "      <td>4</td>\n",
       "      <td>4.3</td>\n",
       "      <td>both</td>\n",
       "      <td>Low-range product</td>\n",
       "      <td>Regularly busy</td>\n",
       "      <td>Least busy</td>\n",
       "      <td>Most orders</td>\n",
       "      <td>8</td>\n",
       "      <td>New customer</td>\n",
       "      <td>8.205882</td>\n",
       "      <td>Low spender</td>\n",
       "      <td>19.0</td>\n",
       "      <td>Regular customer</td>\n",
       "    </tr>\n",
       "    <tr>\n",
       "      <th>3</th>\n",
       "      <td>26711</td>\n",
       "      <td>Female</td>\n",
       "      <td>Missouri</td>\n",
       "      <td>48</td>\n",
       "      <td>1/1/2017</td>\n",
       "      <td>3</td>\n",
       "      <td>married</td>\n",
       "      <td>165665</td>\n",
       "      <td>2524893</td>\n",
       "      <td>3</td>\n",
       "      <td>3</td>\n",
       "      <td>11</td>\n",
       "      <td>30.0</td>\n",
       "      <td>47402</td>\n",
       "      <td>3</td>\n",
       "      <td>0</td>\n",
       "      <td>Fuji Apples</td>\n",
       "      <td>24</td>\n",
       "      <td>4</td>\n",
       "      <td>7.1</td>\n",
       "      <td>both</td>\n",
       "      <td>Mid-range product</td>\n",
       "      <td>Regularly busy</td>\n",
       "      <td>Least busy</td>\n",
       "      <td>Most orders</td>\n",
       "      <td>8</td>\n",
       "      <td>New customer</td>\n",
       "      <td>8.205882</td>\n",
       "      <td>Low spender</td>\n",
       "      <td>19.0</td>\n",
       "      <td>Regular customer</td>\n",
       "    </tr>\n",
       "    <tr>\n",
       "      <th>4</th>\n",
       "      <td>26711</td>\n",
       "      <td>Female</td>\n",
       "      <td>Missouri</td>\n",
       "      <td>48</td>\n",
       "      <td>1/1/2017</td>\n",
       "      <td>3</td>\n",
       "      <td>married</td>\n",
       "      <td>165665</td>\n",
       "      <td>2984525</td>\n",
       "      <td>4</td>\n",
       "      <td>1</td>\n",
       "      <td>17</td>\n",
       "      <td>19.0</td>\n",
       "      <td>38928</td>\n",
       "      <td>1</td>\n",
       "      <td>1</td>\n",
       "      <td>0% Greek Strained Yogurt</td>\n",
       "      <td>120</td>\n",
       "      <td>16</td>\n",
       "      <td>12.6</td>\n",
       "      <td>both</td>\n",
       "      <td>Mid-range product</td>\n",
       "      <td>Regularly busy</td>\n",
       "      <td>Busiest day</td>\n",
       "      <td>Average orders</td>\n",
       "      <td>8</td>\n",
       "      <td>New customer</td>\n",
       "      <td>8.205882</td>\n",
       "      <td>Low spender</td>\n",
       "      <td>19.0</td>\n",
       "      <td>Regular customer</td>\n",
       "    </tr>\n",
       "  </tbody>\n",
       "</table>\n",
       "</div>"
      ],
      "text/plain": [
       "   user_id  Gender     State  Age Date Joined  number of dependants  \\\n",
       "0    26711  Female  Missouri   48    1/1/2017                     3   \n",
       "1    26711  Female  Missouri   48    1/1/2017                     3   \n",
       "2    26711  Female  Missouri   48    1/1/2017                     3   \n",
       "3    26711  Female  Missouri   48    1/1/2017                     3   \n",
       "4    26711  Female  Missouri   48    1/1/2017                     3   \n",
       "\n",
       "  Family Status  Income  order_id  order_number  order_day_of_week  \\\n",
       "0       married  165665    423547             2                  2   \n",
       "1       married  165665   2524893             3                  3   \n",
       "2       married  165665   2524893             3                  3   \n",
       "3       married  165665   2524893             3                  3   \n",
       "4       married  165665   2984525             4                  1   \n",
       "\n",
       "   order_hour_of_day  days_since_prior_order  product_id  add_to_cart_order  \\\n",
       "0                  9                    14.0       38928                  1   \n",
       "1                 11                    30.0       38928                  1   \n",
       "2                 11                    30.0        6184                  2   \n",
       "3                 11                    30.0       47402                  3   \n",
       "4                 17                    19.0       38928                  1   \n",
       "\n",
       "   reordered              product_name  aisle_id  department_id  prices match  \\\n",
       "0          0  0% Greek Strained Yogurt       120             16    12.6  both   \n",
       "1          1  0% Greek Strained Yogurt       120             16    12.6  both   \n",
       "2          1               Clementines        32              4     4.3  both   \n",
       "3          0               Fuji Apples        24              4     7.1  both   \n",
       "4          1  0% Greek Strained Yogurt       120             16    12.6  both   \n",
       "\n",
       "     price_range_loc     busiest_day    busiest_days busiest_period_of_day  \\\n",
       "0  Mid-range product  Regularly busy  Regularly busy           Most orders   \n",
       "1  Mid-range product  Regularly busy      Least busy           Most orders   \n",
       "2  Low-range product  Regularly busy      Least busy           Most orders   \n",
       "3  Mid-range product  Regularly busy      Least busy           Most orders   \n",
       "4  Mid-range product  Regularly busy     Busiest day        Average orders   \n",
       "\n",
       "   max_order  loyalty_flag  avg_product_price spending_flag  \\\n",
       "0          8  New customer           8.205882   Low spender   \n",
       "1          8  New customer           8.205882   Low spender   \n",
       "2          8  New customer           8.205882   Low spender   \n",
       "3          8  New customer           8.205882   Low spender   \n",
       "4          8  New customer           8.205882   Low spender   \n",
       "\n",
       "   median_days_between_orders order_frequency_flag  \n",
       "0                        19.0     Regular customer  \n",
       "1                        19.0     Regular customer  \n",
       "2                        19.0     Regular customer  \n",
       "3                        19.0     Regular customer  \n",
       "4                        19.0     Regular customer  "
      ]
     },
     "execution_count": 9,
     "metadata": {},
     "output_type": "execute_result"
    }
   ],
   "source": [
    "#checking to see if columns have been dropped \n",
    "df_fullmerged.head()"
   ]
  },
  {
   "cell_type": "markdown",
   "id": "349c4df7-907f-480c-a5e9-d1e8c57dede7",
   "metadata": {},
   "source": [
    "#  Create a regional segmentation of the data."
   ]
  },
  {
   "cell_type": "code",
   "execution_count": 11,
   "id": "5dae7466-32da-4000-9d5d-6306548de1a4",
   "metadata": {},
   "outputs": [],
   "source": [
    "result = []\n",
    "for value in df_fullmerged['State']:\n",
    "    if value in ('Maine'\t'New Hampshire'\t'Vermont'\t'Massachusetts'\t'Rhode Island'\t'Connecticut'\t'New York'\t'Pennsylvania'\t'New Jersey'\n",
    ") :\n",
    "        result.append('Northeast')\n",
    "    elif value in ('Wisconsin'\t'Michigan'\t'Illinois'\t'Indiana'\t'Ohio'\t'North Dakota'\t'South Dakota'\t'Nebraska'\t'Kansas'\t'Minnesota'\t'Iowa'\t'Missouri'\n",
    ") :\n",
    "        result.append('Midwest')\n",
    "    elif value in ('Delaware'\t'Maryland'\t'District of Columbia'\t'Virginia'\t'West Virginia'\t'North Carolina'\t'South Carolina'\t'Georgia'\t'Florida'\t'Kentucky'\t'Tennessee'\t'Mississippi'\t'Alabama'\t'Oklahoma'\t'Texas'\t'Arkansas'\t'Louisiana'\n",
    ") :\n",
    "        result.append('South')\n",
    "    elif value in ('Idaho'\t'Montana'\t'Wyoming'\t'Nevada'\t'Utah'\t'Colorado'\t'Arizona'\t'New Mexico'\t'Alaska'\t'Washington'\t'Oregon'\t'California'\t'Hawaii'\n",
    ") :\n",
    "        result.append('West')\n",
    "    else :\n",
    "        result.append('Not a region')"
   ]
  },
  {
   "cell_type": "code",
   "execution_count": 12,
   "id": "2d4a59c8-91db-4745-b630-28d20f538fcf",
   "metadata": {},
   "outputs": [],
   "source": [
    "#Assigning the values in result[] to new column Region\n",
    "df_fullmerged['region']=result"
   ]
  },
  {
   "cell_type": "code",
   "execution_count": 13,
   "id": "5fc27d10-2650-4b81-915d-dfda08738d85",
   "metadata": {},
   "outputs": [
    {
     "data": {
      "text/plain": [
       "region\n",
       "South        10099817\n",
       "West          7765088\n",
       "Midwest       7107586\n",
       "Northeast     5356272\n",
       "Name: count, dtype: int64"
      ]
     },
     "execution_count": 13,
     "metadata": {},
     "output_type": "execute_result"
    }
   ],
   "source": [
    "df_fullmerged['region'].value_counts()"
   ]
  },
  {
   "cell_type": "code",
   "execution_count": 14,
   "id": "955240df-b5dd-456c-8a5a-b06da32cb647",
   "metadata": {},
   "outputs": [
    {
     "data": {
      "text/html": [
       "<div>\n",
       "<style scoped>\n",
       "    .dataframe tbody tr th:only-of-type {\n",
       "        vertical-align: middle;\n",
       "    }\n",
       "\n",
       "    .dataframe tbody tr th {\n",
       "        vertical-align: top;\n",
       "    }\n",
       "\n",
       "    .dataframe thead th {\n",
       "        text-align: right;\n",
       "    }\n",
       "</style>\n",
       "<table border=\"1\" class=\"dataframe\">\n",
       "  <thead>\n",
       "    <tr style=\"text-align: right;\">\n",
       "      <th></th>\n",
       "      <th>user_id</th>\n",
       "      <th>Gender</th>\n",
       "      <th>State</th>\n",
       "      <th>Age</th>\n",
       "      <th>Date Joined</th>\n",
       "      <th>number of dependants</th>\n",
       "      <th>Family Status</th>\n",
       "      <th>Income</th>\n",
       "      <th>order_id</th>\n",
       "      <th>order_number</th>\n",
       "      <th>order_day_of_week</th>\n",
       "      <th>order_hour_of_day</th>\n",
       "      <th>days_since_prior_order</th>\n",
       "      <th>product_id</th>\n",
       "      <th>add_to_cart_order</th>\n",
       "      <th>reordered</th>\n",
       "      <th>product_name</th>\n",
       "      <th>aisle_id</th>\n",
       "      <th>department_id</th>\n",
       "      <th>prices</th>\n",
       "      <th>match</th>\n",
       "      <th>price_range_loc</th>\n",
       "      <th>busiest_day</th>\n",
       "      <th>busiest_days</th>\n",
       "      <th>busiest_period_of_day</th>\n",
       "      <th>max_order</th>\n",
       "      <th>loyalty_flag</th>\n",
       "      <th>avg_product_price</th>\n",
       "      <th>spending_flag</th>\n",
       "      <th>median_days_between_orders</th>\n",
       "      <th>order_frequency_flag</th>\n",
       "      <th>region</th>\n",
       "    </tr>\n",
       "  </thead>\n",
       "  <tbody>\n",
       "    <tr>\n",
       "      <th>0</th>\n",
       "      <td>26711</td>\n",
       "      <td>Female</td>\n",
       "      <td>Missouri</td>\n",
       "      <td>48</td>\n",
       "      <td>1/1/2017</td>\n",
       "      <td>3</td>\n",
       "      <td>married</td>\n",
       "      <td>165665</td>\n",
       "      <td>423547</td>\n",
       "      <td>2</td>\n",
       "      <td>2</td>\n",
       "      <td>9</td>\n",
       "      <td>14.0</td>\n",
       "      <td>38928</td>\n",
       "      <td>1</td>\n",
       "      <td>0</td>\n",
       "      <td>0% Greek Strained Yogurt</td>\n",
       "      <td>120</td>\n",
       "      <td>16</td>\n",
       "      <td>12.6</td>\n",
       "      <td>both</td>\n",
       "      <td>Mid-range product</td>\n",
       "      <td>Regularly busy</td>\n",
       "      <td>Regularly busy</td>\n",
       "      <td>Most orders</td>\n",
       "      <td>8</td>\n",
       "      <td>New customer</td>\n",
       "      <td>8.205882</td>\n",
       "      <td>Low spender</td>\n",
       "      <td>19.0</td>\n",
       "      <td>Regular customer</td>\n",
       "      <td>Midwest</td>\n",
       "    </tr>\n",
       "    <tr>\n",
       "      <th>1</th>\n",
       "      <td>26711</td>\n",
       "      <td>Female</td>\n",
       "      <td>Missouri</td>\n",
       "      <td>48</td>\n",
       "      <td>1/1/2017</td>\n",
       "      <td>3</td>\n",
       "      <td>married</td>\n",
       "      <td>165665</td>\n",
       "      <td>2524893</td>\n",
       "      <td>3</td>\n",
       "      <td>3</td>\n",
       "      <td>11</td>\n",
       "      <td>30.0</td>\n",
       "      <td>38928</td>\n",
       "      <td>1</td>\n",
       "      <td>1</td>\n",
       "      <td>0% Greek Strained Yogurt</td>\n",
       "      <td>120</td>\n",
       "      <td>16</td>\n",
       "      <td>12.6</td>\n",
       "      <td>both</td>\n",
       "      <td>Mid-range product</td>\n",
       "      <td>Regularly busy</td>\n",
       "      <td>Least busy</td>\n",
       "      <td>Most orders</td>\n",
       "      <td>8</td>\n",
       "      <td>New customer</td>\n",
       "      <td>8.205882</td>\n",
       "      <td>Low spender</td>\n",
       "      <td>19.0</td>\n",
       "      <td>Regular customer</td>\n",
       "      <td>Midwest</td>\n",
       "    </tr>\n",
       "    <tr>\n",
       "      <th>2</th>\n",
       "      <td>26711</td>\n",
       "      <td>Female</td>\n",
       "      <td>Missouri</td>\n",
       "      <td>48</td>\n",
       "      <td>1/1/2017</td>\n",
       "      <td>3</td>\n",
       "      <td>married</td>\n",
       "      <td>165665</td>\n",
       "      <td>2524893</td>\n",
       "      <td>3</td>\n",
       "      <td>3</td>\n",
       "      <td>11</td>\n",
       "      <td>30.0</td>\n",
       "      <td>6184</td>\n",
       "      <td>2</td>\n",
       "      <td>1</td>\n",
       "      <td>Clementines</td>\n",
       "      <td>32</td>\n",
       "      <td>4</td>\n",
       "      <td>4.3</td>\n",
       "      <td>both</td>\n",
       "      <td>Low-range product</td>\n",
       "      <td>Regularly busy</td>\n",
       "      <td>Least busy</td>\n",
       "      <td>Most orders</td>\n",
       "      <td>8</td>\n",
       "      <td>New customer</td>\n",
       "      <td>8.205882</td>\n",
       "      <td>Low spender</td>\n",
       "      <td>19.0</td>\n",
       "      <td>Regular customer</td>\n",
       "      <td>Midwest</td>\n",
       "    </tr>\n",
       "    <tr>\n",
       "      <th>3</th>\n",
       "      <td>26711</td>\n",
       "      <td>Female</td>\n",
       "      <td>Missouri</td>\n",
       "      <td>48</td>\n",
       "      <td>1/1/2017</td>\n",
       "      <td>3</td>\n",
       "      <td>married</td>\n",
       "      <td>165665</td>\n",
       "      <td>2524893</td>\n",
       "      <td>3</td>\n",
       "      <td>3</td>\n",
       "      <td>11</td>\n",
       "      <td>30.0</td>\n",
       "      <td>47402</td>\n",
       "      <td>3</td>\n",
       "      <td>0</td>\n",
       "      <td>Fuji Apples</td>\n",
       "      <td>24</td>\n",
       "      <td>4</td>\n",
       "      <td>7.1</td>\n",
       "      <td>both</td>\n",
       "      <td>Mid-range product</td>\n",
       "      <td>Regularly busy</td>\n",
       "      <td>Least busy</td>\n",
       "      <td>Most orders</td>\n",
       "      <td>8</td>\n",
       "      <td>New customer</td>\n",
       "      <td>8.205882</td>\n",
       "      <td>Low spender</td>\n",
       "      <td>19.0</td>\n",
       "      <td>Regular customer</td>\n",
       "      <td>Midwest</td>\n",
       "    </tr>\n",
       "    <tr>\n",
       "      <th>4</th>\n",
       "      <td>26711</td>\n",
       "      <td>Female</td>\n",
       "      <td>Missouri</td>\n",
       "      <td>48</td>\n",
       "      <td>1/1/2017</td>\n",
       "      <td>3</td>\n",
       "      <td>married</td>\n",
       "      <td>165665</td>\n",
       "      <td>2984525</td>\n",
       "      <td>4</td>\n",
       "      <td>1</td>\n",
       "      <td>17</td>\n",
       "      <td>19.0</td>\n",
       "      <td>38928</td>\n",
       "      <td>1</td>\n",
       "      <td>1</td>\n",
       "      <td>0% Greek Strained Yogurt</td>\n",
       "      <td>120</td>\n",
       "      <td>16</td>\n",
       "      <td>12.6</td>\n",
       "      <td>both</td>\n",
       "      <td>Mid-range product</td>\n",
       "      <td>Regularly busy</td>\n",
       "      <td>Busiest day</td>\n",
       "      <td>Average orders</td>\n",
       "      <td>8</td>\n",
       "      <td>New customer</td>\n",
       "      <td>8.205882</td>\n",
       "      <td>Low spender</td>\n",
       "      <td>19.0</td>\n",
       "      <td>Regular customer</td>\n",
       "      <td>Midwest</td>\n",
       "    </tr>\n",
       "  </tbody>\n",
       "</table>\n",
       "</div>"
      ],
      "text/plain": [
       "   user_id  Gender     State  Age Date Joined  number of dependants  \\\n",
       "0    26711  Female  Missouri   48    1/1/2017                     3   \n",
       "1    26711  Female  Missouri   48    1/1/2017                     3   \n",
       "2    26711  Female  Missouri   48    1/1/2017                     3   \n",
       "3    26711  Female  Missouri   48    1/1/2017                     3   \n",
       "4    26711  Female  Missouri   48    1/1/2017                     3   \n",
       "\n",
       "  Family Status  Income  order_id  order_number  order_day_of_week  \\\n",
       "0       married  165665    423547             2                  2   \n",
       "1       married  165665   2524893             3                  3   \n",
       "2       married  165665   2524893             3                  3   \n",
       "3       married  165665   2524893             3                  3   \n",
       "4       married  165665   2984525             4                  1   \n",
       "\n",
       "   order_hour_of_day  days_since_prior_order  product_id  add_to_cart_order  \\\n",
       "0                  9                    14.0       38928                  1   \n",
       "1                 11                    30.0       38928                  1   \n",
       "2                 11                    30.0        6184                  2   \n",
       "3                 11                    30.0       47402                  3   \n",
       "4                 17                    19.0       38928                  1   \n",
       "\n",
       "   reordered              product_name  aisle_id  department_id  prices match  \\\n",
       "0          0  0% Greek Strained Yogurt       120             16    12.6  both   \n",
       "1          1  0% Greek Strained Yogurt       120             16    12.6  both   \n",
       "2          1               Clementines        32              4     4.3  both   \n",
       "3          0               Fuji Apples        24              4     7.1  both   \n",
       "4          1  0% Greek Strained Yogurt       120             16    12.6  both   \n",
       "\n",
       "     price_range_loc     busiest_day    busiest_days busiest_period_of_day  \\\n",
       "0  Mid-range product  Regularly busy  Regularly busy           Most orders   \n",
       "1  Mid-range product  Regularly busy      Least busy           Most orders   \n",
       "2  Low-range product  Regularly busy      Least busy           Most orders   \n",
       "3  Mid-range product  Regularly busy      Least busy           Most orders   \n",
       "4  Mid-range product  Regularly busy     Busiest day        Average orders   \n",
       "\n",
       "   max_order  loyalty_flag  avg_product_price spending_flag  \\\n",
       "0          8  New customer           8.205882   Low spender   \n",
       "1          8  New customer           8.205882   Low spender   \n",
       "2          8  New customer           8.205882   Low spender   \n",
       "3          8  New customer           8.205882   Low spender   \n",
       "4          8  New customer           8.205882   Low spender   \n",
       "\n",
       "   median_days_between_orders order_frequency_flag   region  \n",
       "0                        19.0     Regular customer  Midwest  \n",
       "1                        19.0     Regular customer  Midwest  \n",
       "2                        19.0     Regular customer  Midwest  \n",
       "3                        19.0     Regular customer  Midwest  \n",
       "4                        19.0     Regular customer  Midwest  "
      ]
     },
     "execution_count": 14,
     "metadata": {},
     "output_type": "execute_result"
    }
   ],
   "source": [
    "# check to see table \n",
    "df_fullmerged.head()"
   ]
  },
  {
   "cell_type": "markdown",
   "id": "994702fa-7a8d-46f5-9438-24da374777d5",
   "metadata": {},
   "source": [
    "# Determining whether there’s a difference in spending habits between the different U.S. regions. "
   ]
  },
  {
   "cell_type": "code",
   "execution_count": 16,
   "id": "630dc0ef-a6c2-4c8f-bad2-b77c2eaf4e20",
   "metadata": {},
   "outputs": [],
   "source": [
    "#create a cross tab to compare spending habits accross regions \n",
    "crosstab = pd.crosstab(df_fullmerged['region'], df_fullmerged['spending_flag'], dropna = False)"
   ]
  },
  {
   "cell_type": "code",
   "execution_count": 17,
   "id": "023c870b-a982-4d70-9fee-9293f6f2e388",
   "metadata": {},
   "outputs": [],
   "source": [
    "crosstab.to_clipboard()"
   ]
  },
  {
   "cell_type": "code",
   "execution_count": 18,
   "id": "ad6f68f0-349f-432a-9c90-08177ea2321d",
   "metadata": {},
   "outputs": [
    {
     "name": "stdout",
     "output_type": "stream",
     "text": [
      "spending_flag  High spender  Low spender\n",
      "region                                  \n",
      "Midwest              148321      6959265\n",
      "Northeast            102905      5253367\n",
      "South                197110      9902707\n",
      "West                 149922      7615166\n"
     ]
    }
   ],
   "source": [
    "# Print the crosstab\n",
    "print(crosstab)"
   ]
  },
  {
   "cell_type": "code",
   "execution_count": 19,
   "id": "aef7fe6d-572f-40b1-80db-902bbc0b92e1",
   "metadata": {},
   "outputs": [
    {
     "data": {
      "image/png": "[encoded data removed]",
      "text/plain": [
       "<Figure size 640x480 with 1 Axes>"
      ]
     },
     "metadata": {},
     "output_type": "display_data"
    }
   ],
   "source": [
    "#create a bar chart to better compare spending habits\n",
    "bar_reg_com = crosstab.plot.bar()"
   ]
  },
  {
   "cell_type": "markdown",
   "id": "2637bfac-d7cd-4439-ab83-360bbdb7f4ee",
   "metadata": {},
   "source": [
    "# The South and West show higher overall customer activity compared to the Midwest and Northeast, but the majority of customers in all regions are low spenders, indicating spending habits are similar regardless of region."
   ]
  },
  {
   "cell_type": "code",
   "execution_count": 21,
   "id": "03079d9e-19df-456e-8147-f360bf6af5df",
   "metadata": {},
   "outputs": [],
   "source": [
    "#export bar chart of regional spending comparison\n",
    "bar_reg_com.figure.savefig('/Users/lordsonobire/Documents/Data Immersion/Achievement 4/Instacart Basket Analysis/04 Analysis/Visualizations/reg_compared_spending.png')"
   ]
  },
  {
   "cell_type": "markdown",
   "id": "e7b02070-bd42-4bac-bccb-3ead22e1d6d0",
   "metadata": {},
   "source": [
    "# Create an exclusion flag for low-activity customers (customers with less than 5 orders) and exclude them from the data. Make sure you export this sample."
   ]
  },
  {
   "cell_type": "code",
   "execution_count": 23,
   "id": "f9093afd-66d2-4ef6-85f2-537f91a01765",
   "metadata": {},
   "outputs": [],
   "source": [
    "# Create a flag for customers with less than 5 orders\n",
    "df_fullmerged.loc[df_fullmerged['max_order'] < 5, 'activity_flag'] = 'low-activity customer'\n",
    "df_fullmerged.loc[df_fullmerged['max_order'] >= 5, 'activity_flag'] = 'high-activity customer'"
   ]
  },
  {
   "cell_type": "code",
   "execution_count": 24,
   "id": "bce93a46-c8b2-4f37-8e13-8190f0abcf21",
   "metadata": {},
   "outputs": [
    {
     "data": {
      "text/plain": [
       "activity_flag\n",
       "high-activity customer    29303281\n",
       "low-activity customer      1025482\n",
       "Name: count, dtype: int64"
      ]
     },
     "execution_count": 24,
     "metadata": {},
     "output_type": "execute_result"
    }
   ],
   "source": [
    "#check to see frequency\n",
    "df_fullmerged['activity_flag'].value_counts(dropna = False)"
   ]
  },
  {
   "cell_type": "code",
   "execution_count": 25,
   "id": "2b88a823-b27b-4d11-b1e8-cded1a26cd17",
   "metadata": {},
   "outputs": [],
   "source": [
    "# Exclude low-activity customers from dataframe\n",
    "df_filtered = df_fullmerged[df_fullmerged['activity_flag'] == 'high-activity customer']"
   ]
  },
  {
   "cell_type": "code",
   "execution_count": 26,
   "id": "2e05d3b7-9889-4924-a8d0-4702c450fb8e",
   "metadata": {},
   "outputs": [
    {
     "data": {
      "text/plain": [
       "activity_flag\n",
       "high-activity customer    29303281\n",
       "Name: count, dtype: int64"
      ]
     },
     "execution_count": 26,
     "metadata": {},
     "output_type": "execute_result"
    }
   ],
   "source": [
    "df_filtered['activity_flag'].value_counts(dropna = False)"
   ]
  },
  {
   "cell_type": "code",
   "execution_count": 27,
   "id": "30d46b06-b593-4e96-b0c1-e22f32a12e18",
   "metadata": {},
   "outputs": [],
   "source": [
    "#export high activity data frame\n",
    "df_filtered.to_pickle('/Users/lordsonobire/Documents/Data Immersion/Achievement 4/Instacart Basket Analysis/02 Data/Prepared Data/High_activity_customers.pkl')"
   ]
  },
  {
   "cell_type": "markdown",
   "id": "368f93c8-30c1-4833-934d-be1076834820",
   "metadata": {},
   "source": [
    "# Create a profiling variable based on age, income, certain goods in the “department_id” column, and number of dependents & Create an appropriate visualization to show the distribution of profiles."
   ]
  },
  {
   "cell_type": "markdown",
   "id": "97fa38d9-fa4f-48aa-a71b-aa6315e2cab9",
   "metadata": {},
   "source": [
    "# AGE"
   ]
  },
  {
   "cell_type": "code",
   "execution_count": 30,
   "id": "c22da73f-0890-4fcf-a4a3-ee29e18264ce",
   "metadata": {},
   "outputs": [
    {
     "name": "stderr",
     "output_type": "stream",
     "text": [
      "/var/folders/g0/3g_bmqwx1ks0wzpxgh5vgbfm0000gn/T/ipykernel_72621/1960253555.py:2: SettingWithCopyWarning: \n",
      "A value is trying to be set on a copy of a slice from a DataFrame.\n",
      "Try using .loc[row_indexer,col_indexer] = value instead\n",
      "\n",
      "See the caveats in the documentation: https://pandas.pydata.org/pandas-docs/stable/user_guide/indexing.html#returning-a-view-versus-a-copy\n",
      "  df_filtered.loc[df_filtered['Age'] <= 25, 'Age_group'] = 'Young adult'\n"
     ]
    }
   ],
   "source": [
    "# creating age flag \n",
    "df_filtered.loc[df_filtered['Age'] <= 25, 'Age_group'] = 'Young adult'\n",
    "df_filtered.loc[(df_filtered['Age'] > 25) & (df_filtered['Age'] <= 44), 'Age_group'] = 'Adult'\n",
    "df_filtered.loc[(df_filtered['Age'] > 44) & (df_filtered['Age'] <= 64), 'Age_group'] = 'Middle-aged'\n",
    "df_filtered.loc[df_filtered['Age'] > 64, 'Age_group'] = 'Senior'"
   ]
  },
  {
   "cell_type": "code",
   "execution_count": 31,
   "id": "dfcea7df-a479-41a3-a433-d7963b9a5305",
   "metadata": {},
   "outputs": [
    {
     "data": {
      "text/plain": [
       "Age_group\n",
       "Middle-aged    9169173\n",
       "Adult          8722963\n",
       "Senior         7754560\n",
       "Young adult    3656585\n",
       "Name: count, dtype: int64"
      ]
     },
     "execution_count": 31,
     "metadata": {},
     "output_type": "execute_result"
    }
   ],
   "source": [
    "#check to see frequency count of new 'Age group' column \n",
    "df_filtered['Age_group'].value_counts(dropna = False)"
   ]
  },
  {
   "cell_type": "code",
   "execution_count": 32,
   "id": "41e6add1-8df3-4e53-b0d2-08e156545db6",
   "metadata": {},
   "outputs": [
    {
     "data": {
      "image/png": "[encoded data removed]",
      "text/plain": [
       "<Figure size 700x700 with 1 Axes>"
      ]
     },
     "metadata": {},
     "output_type": "display_data"
    }
   ],
   "source": [
    "# Plot age group pie chart distribution\n",
    "age_group_dist_pie_chart=df_filtered['Age_group'].value_counts().plot(\n",
    "    kind='pie',\n",
    "    labels= ['Middle-aged: 45-64 years', 'Adult: 26-44 years', 'Senior: 65+ years', 'Young adult: up to 25 years'],\n",
    "    autopct='%1.1f%%',\n",
    "    startangle=90,\n",
    "    colors=['#ff9999','#66b3ff','#99ff99','#ffcc99'],\n",
    "    figsize=(7, 7)\n",
    ")\n",
    "plt.title('Age Group Distribution', fontsize=16)\n",
    "plt.ylabel('')  # Remove y-axis label for cleaner look\n",
    "plt.show()"
   ]
  },
  {
   "cell_type": "code",
   "execution_count": 33,
   "id": "add1a4d4-fd8b-41bd-b3cf-e8003998493a",
   "metadata": {},
   "outputs": [],
   "source": [
    "#Export age group distribution pie chart\n",
    "age_group_dist_pie_chart.figure.savefig('/Users/lordsonobire/Documents/Data Immersion/Achievement 4/Instacart Basket Analysis/04 Analysis/Visualizations/age_group_pie_chart.png')"
   ]
  },
  {
   "cell_type": "markdown",
   "id": "0ed9375d-d205-4e64-88da-d5ba41122369",
   "metadata": {},
   "source": [
    "# Income"
   ]
  },
  {
   "cell_type": "code",
   "execution_count": 35,
   "id": "4ed4d274-8623-4087-a4b0-7017bcb674d9",
   "metadata": {},
   "outputs": [
    {
     "name": "stderr",
     "output_type": "stream",
     "text": [
      "/var/folders/g0/3g_bmqwx1ks0wzpxgh5vgbfm0000gn/T/ipykernel_72621/1664271635.py:2: SettingWithCopyWarning: \n",
      "A value is trying to be set on a copy of a slice from a DataFrame.\n",
      "Try using .loc[row_indexer,col_indexer] = value instead\n",
      "\n",
      "See the caveats in the documentation: https://pandas.pydata.org/pandas-docs/stable/user_guide/indexing.html#returning-a-view-versus-a-copy\n",
      "  df_filtered.loc[df_filtered['Income'] <= 55000, 'income_group'] = 'low-income'\n"
     ]
    }
   ],
   "source": [
    "# Create an income group flag\n",
    "df_filtered.loc[df_filtered['Income'] <= 55000, 'income_group'] = 'low-income'\n",
    "df_filtered.loc[(df_filtered['Income'] > 55000) & (df_filtered['Income'] <= 150000), 'income_group'] = 'middle-income'\n",
    "df_filtered.loc[df_filtered['Income'] > 150000, 'income_group'] = 'high-income'"
   ]
  },
  {
   "cell_type": "code",
   "execution_count": 36,
   "id": "a5c24dd5-b9fa-461a-aa32-5f9021eafbd4",
   "metadata": {},
   "outputs": [],
   "source": [
    "# Check the frquency of income groups\n",
    "income_group_labels=df_filtered['income_group'].value_counts(dropna = False)"
   ]
  },
  {
   "cell_type": "code",
   "execution_count": 37,
   "id": "d00b288e-4756-4943-b94b-28025cf40a1a",
   "metadata": {},
   "outputs": [
    {
     "data": {
      "text/plain": [
       "income_group\n",
       "middle-income    21414125\n",
       "low-income        4199182\n",
       "high-income       3689974\n",
       "Name: count, dtype: int64"
      ]
     },
     "execution_count": 37,
     "metadata": {},
     "output_type": "execute_result"
    }
   ],
   "source": [
    "income_group_labels"
   ]
  },
  {
   "cell_type": "code",
   "execution_count": 38,
   "id": "ab5615f7-332b-4dce-b0cb-648436838c18",
   "metadata": {},
   "outputs": [
    {
     "data": {
      "image/png": "[encoded data removed]",
      "text/plain": [
       "<Figure size 800x500 with 1 Axes>"
      ]
     },
     "metadata": {},
     "output_type": "display_data"
    }
   ],
   "source": [
    "# Plot the income_group_labels bar chart\n",
    "income_group_bar=income_group_labels.plot(kind='bar', color='lightblue', figsize=(8, 5))\n",
    "plt.title('Distribution of Income Groups', fontsize=16)\n",
    "plt.xlabel('Income Group', fontsize=12)\n",
    "plt.ylabel('Number of Customers', fontsize=12)\n",
    "plt.xticks(rotation=45)\n",
    "plt.show()"
   ]
  },
  {
   "cell_type": "code",
   "execution_count": 39,
   "id": "27b26e43-ae5f-46f8-ab6d-53a92dc5820f",
   "metadata": {},
   "outputs": [],
   "source": [
    "#export income group bar chart \n",
    "income_group_bar.figure.savefig('/Users/lordsonobire/Documents/Data Immersion/Achievement 4/Instacart Basket Analysis/04 Analysis/Visualizations/income_group_bar_chart.png')"
   ]
  },
  {
   "cell_type": "markdown",
   "id": "02fe4937-20b4-46c4-92cf-24da6f75c789",
   "metadata": {},
   "source": [
    "# Dependants"
   ]
  },
  {
   "cell_type": "code",
   "execution_count": 41,
   "id": "c9cae6a1-8600-4221-b8a2-a07facc8b0ae",
   "metadata": {},
   "outputs": [
    {
     "name": "stderr",
     "output_type": "stream",
     "text": [
      "/var/folders/g0/3g_bmqwx1ks0wzpxgh5vgbfm0000gn/T/ipykernel_72621/2910874718.py:2: SettingWithCopyWarning: \n",
      "A value is trying to be set on a copy of a slice from a DataFrame.\n",
      "Try using .loc[row_indexer,col_indexer] = value instead\n",
      "\n",
      "See the caveats in the documentation: https://pandas.pydata.org/pandas-docs/stable/user_guide/indexing.html#returning-a-view-versus-a-copy\n",
      "  df_filtered.loc[df_filtered['number of dependants'] == 0, 'dependants_flag'] = 'no dependants'\n"
     ]
    }
   ],
   "source": [
    "# Create a dependents flag\n",
    "df_filtered.loc[df_filtered['number of dependants'] == 0, 'dependants_flag'] = 'no dependants'\n",
    "df_filtered.loc[df_filtered['number of dependants'] >= 1, 'dependants_flag'] = 'has dependants'"
   ]
  },
  {
   "cell_type": "code",
   "execution_count": 42,
   "id": "f59659fb-131f-4d27-82cc-7206994f51f2",
   "metadata": {},
   "outputs": [],
   "source": [
    "# Check the frquency of dependant groups\n",
    "dependant_frq=df_filtered['dependants_flag'].value_counts(dropna = False)"
   ]
  },
  {
   "cell_type": "code",
   "execution_count": 43,
   "id": "07b131f5-f510-431c-b2d5-80d42c36b3e1",
   "metadata": {},
   "outputs": [
    {
     "data": {
      "text/plain": [
       "dependants_flag\n",
       "has dependants    21978394\n",
       "no dependants      7324887\n",
       "Name: count, dtype: int64"
      ]
     },
     "execution_count": 43,
     "metadata": {},
     "output_type": "execute_result"
    }
   ],
   "source": [
    "dependant_frq"
   ]
  },
  {
   "cell_type": "code",
   "execution_count": 44,
   "id": "c4e7c336-1416-4377-a7dc-0a88c80c5508",
   "metadata": {},
   "outputs": [
    {
     "data": {
      "image/png": "[encoded data removed]",
      "text/plain": [
       "<Figure size 700x700 with 1 Axes>"
      ]
     },
     "metadata": {},
     "output_type": "display_data"
    }
   ],
   "source": [
    "# Plot the pie chart\n",
    "dependant_proportion=dependant_frq.plot(\n",
    "    kind='pie',\n",
    "    autopct='%1.1f%%',\n",
    "    startangle=90,\n",
    "    colors=['#66b3ff', '#99ff99'],\n",
    "    labels=['Has Dependents', 'No Dependents'],\n",
    "    figsize=(7, 7),\n",
    "    textprops={'fontsize': 10}\n",
    ")\n",
    "plt.title('Percentage of Customers with Dependents', fontsize=16)\n",
    "plt.ylabel('')  # Remove default y-axis label\n",
    "plt.show()"
   ]
  },
  {
   "cell_type": "code",
   "execution_count": 45,
   "id": "5349facb-4022-4b68-b150-da6c2a2d3819",
   "metadata": {},
   "outputs": [],
   "source": [
    "#export dependant proportion of total\n",
    "dependant_proportion.figure.savefig('/Users/lordsonobire/Documents/Data Immersion/Achievement 4/Instacart Basket Analysis/04 Analysis/Visualizations/dependant_proportion_pie_chart.png')"
   ]
  },
  {
   "cell_type": "code",
   "execution_count": 46,
   "id": "51f9bb4f-78b4-4a66-8c2b-c632b3b8619b",
   "metadata": {},
   "outputs": [
    {
     "data": {
      "text/html": [
       "<div>\n",
       "<style scoped>\n",
       "    .dataframe tbody tr th:only-of-type {\n",
       "        vertical-align: middle;\n",
       "    }\n",
       "\n",
       "    .dataframe tbody tr th {\n",
       "        vertical-align: top;\n",
       "    }\n",
       "\n",
       "    .dataframe thead th {\n",
       "        text-align: right;\n",
       "    }\n",
       "</style>\n",
       "<table border=\"1\" class=\"dataframe\">\n",
       "  <thead>\n",
       "    <tr style=\"text-align: right;\">\n",
       "      <th></th>\n",
       "      <th>user_id</th>\n",
       "      <th>Gender</th>\n",
       "      <th>State</th>\n",
       "      <th>Age</th>\n",
       "      <th>Date Joined</th>\n",
       "      <th>number of dependants</th>\n",
       "      <th>Family Status</th>\n",
       "      <th>Income</th>\n",
       "      <th>order_id</th>\n",
       "      <th>order_number</th>\n",
       "      <th>order_day_of_week</th>\n",
       "      <th>order_hour_of_day</th>\n",
       "      <th>days_since_prior_order</th>\n",
       "      <th>product_id</th>\n",
       "      <th>add_to_cart_order</th>\n",
       "      <th>reordered</th>\n",
       "      <th>product_name</th>\n",
       "      <th>aisle_id</th>\n",
       "      <th>department_id</th>\n",
       "      <th>prices</th>\n",
       "      <th>match</th>\n",
       "      <th>price_range_loc</th>\n",
       "      <th>busiest_day</th>\n",
       "      <th>busiest_days</th>\n",
       "      <th>busiest_period_of_day</th>\n",
       "      <th>max_order</th>\n",
       "      <th>loyalty_flag</th>\n",
       "      <th>avg_product_price</th>\n",
       "      <th>spending_flag</th>\n",
       "      <th>median_days_between_orders</th>\n",
       "      <th>order_frequency_flag</th>\n",
       "      <th>region</th>\n",
       "      <th>activity_flag</th>\n",
       "      <th>Age_group</th>\n",
       "      <th>income_group</th>\n",
       "      <th>dependants_flag</th>\n",
       "    </tr>\n",
       "  </thead>\n",
       "  <tbody>\n",
       "    <tr>\n",
       "      <th>0</th>\n",
       "      <td>26711</td>\n",
       "      <td>Female</td>\n",
       "      <td>Missouri</td>\n",
       "      <td>48</td>\n",
       "      <td>1/1/2017</td>\n",
       "      <td>3</td>\n",
       "      <td>married</td>\n",
       "      <td>165665</td>\n",
       "      <td>423547</td>\n",
       "      <td>2</td>\n",
       "      <td>2</td>\n",
       "      <td>9</td>\n",
       "      <td>14.0</td>\n",
       "      <td>38928</td>\n",
       "      <td>1</td>\n",
       "      <td>0</td>\n",
       "      <td>0% Greek Strained Yogurt</td>\n",
       "      <td>120</td>\n",
       "      <td>16</td>\n",
       "      <td>12.6</td>\n",
       "      <td>both</td>\n",
       "      <td>Mid-range product</td>\n",
       "      <td>Regularly busy</td>\n",
       "      <td>Regularly busy</td>\n",
       "      <td>Most orders</td>\n",
       "      <td>8</td>\n",
       "      <td>New customer</td>\n",
       "      <td>8.205882</td>\n",
       "      <td>Low spender</td>\n",
       "      <td>19.0</td>\n",
       "      <td>Regular customer</td>\n",
       "      <td>Midwest</td>\n",
       "      <td>high-activity customer</td>\n",
       "      <td>Middle-aged</td>\n",
       "      <td>high-income</td>\n",
       "      <td>has dependants</td>\n",
       "    </tr>\n",
       "    <tr>\n",
       "      <th>1</th>\n",
       "      <td>26711</td>\n",
       "      <td>Female</td>\n",
       "      <td>Missouri</td>\n",
       "      <td>48</td>\n",
       "      <td>1/1/2017</td>\n",
       "      <td>3</td>\n",
       "      <td>married</td>\n",
       "      <td>165665</td>\n",
       "      <td>2524893</td>\n",
       "      <td>3</td>\n",
       "      <td>3</td>\n",
       "      <td>11</td>\n",
       "      <td>30.0</td>\n",
       "      <td>38928</td>\n",
       "      <td>1</td>\n",
       "      <td>1</td>\n",
       "      <td>0% Greek Strained Yogurt</td>\n",
       "      <td>120</td>\n",
       "      <td>16</td>\n",
       "      <td>12.6</td>\n",
       "      <td>both</td>\n",
       "      <td>Mid-range product</td>\n",
       "      <td>Regularly busy</td>\n",
       "      <td>Least busy</td>\n",
       "      <td>Most orders</td>\n",
       "      <td>8</td>\n",
       "      <td>New customer</td>\n",
       "      <td>8.205882</td>\n",
       "      <td>Low spender</td>\n",
       "      <td>19.0</td>\n",
       "      <td>Regular customer</td>\n",
       "      <td>Midwest</td>\n",
       "      <td>high-activity customer</td>\n",
       "      <td>Middle-aged</td>\n",
       "      <td>high-income</td>\n",
       "      <td>has dependants</td>\n",
       "    </tr>\n",
       "    <tr>\n",
       "      <th>2</th>\n",
       "      <td>26711</td>\n",
       "      <td>Female</td>\n",
       "      <td>Missouri</td>\n",
       "      <td>48</td>\n",
       "      <td>1/1/2017</td>\n",
       "      <td>3</td>\n",
       "      <td>married</td>\n",
       "      <td>165665</td>\n",
       "      <td>2524893</td>\n",
       "      <td>3</td>\n",
       "      <td>3</td>\n",
       "      <td>11</td>\n",
       "      <td>30.0</td>\n",
       "      <td>6184</td>\n",
       "      <td>2</td>\n",
       "      <td>1</td>\n",
       "      <td>Clementines</td>\n",
       "      <td>32</td>\n",
       "      <td>4</td>\n",
       "      <td>4.3</td>\n",
       "      <td>both</td>\n",
       "      <td>Low-range product</td>\n",
       "      <td>Regularly busy</td>\n",
       "      <td>Least busy</td>\n",
       "      <td>Most orders</td>\n",
       "      <td>8</td>\n",
       "      <td>New customer</td>\n",
       "      <td>8.205882</td>\n",
       "      <td>Low spender</td>\n",
       "      <td>19.0</td>\n",
       "      <td>Regular customer</td>\n",
       "      <td>Midwest</td>\n",
       "      <td>high-activity customer</td>\n",
       "      <td>Middle-aged</td>\n",
       "      <td>high-income</td>\n",
       "      <td>has dependants</td>\n",
       "    </tr>\n",
       "    <tr>\n",
       "      <th>3</th>\n",
       "      <td>26711</td>\n",
       "      <td>Female</td>\n",
       "      <td>Missouri</td>\n",
       "      <td>48</td>\n",
       "      <td>1/1/2017</td>\n",
       "      <td>3</td>\n",
       "      <td>married</td>\n",
       "      <td>165665</td>\n",
       "      <td>2524893</td>\n",
       "      <td>3</td>\n",
       "      <td>3</td>\n",
       "      <td>11</td>\n",
       "      <td>30.0</td>\n",
       "      <td>47402</td>\n",
       "      <td>3</td>\n",
       "      <td>0</td>\n",
       "      <td>Fuji Apples</td>\n",
       "      <td>24</td>\n",
       "      <td>4</td>\n",
       "      <td>7.1</td>\n",
       "      <td>both</td>\n",
       "      <td>Mid-range product</td>\n",
       "      <td>Regularly busy</td>\n",
       "      <td>Least busy</td>\n",
       "      <td>Most orders</td>\n",
       "      <td>8</td>\n",
       "      <td>New customer</td>\n",
       "      <td>8.205882</td>\n",
       "      <td>Low spender</td>\n",
       "      <td>19.0</td>\n",
       "      <td>Regular customer</td>\n",
       "      <td>Midwest</td>\n",
       "      <td>high-activity customer</td>\n",
       "      <td>Middle-aged</td>\n",
       "      <td>high-income</td>\n",
       "      <td>has dependants</td>\n",
       "    </tr>\n",
       "    <tr>\n",
       "      <th>4</th>\n",
       "      <td>26711</td>\n",
       "      <td>Female</td>\n",
       "      <td>Missouri</td>\n",
       "      <td>48</td>\n",
       "      <td>1/1/2017</td>\n",
       "      <td>3</td>\n",
       "      <td>married</td>\n",
       "      <td>165665</td>\n",
       "      <td>2984525</td>\n",
       "      <td>4</td>\n",
       "      <td>1</td>\n",
       "      <td>17</td>\n",
       "      <td>19.0</td>\n",
       "      <td>38928</td>\n",
       "      <td>1</td>\n",
       "      <td>1</td>\n",
       "      <td>0% Greek Strained Yogurt</td>\n",
       "      <td>120</td>\n",
       "      <td>16</td>\n",
       "      <td>12.6</td>\n",
       "      <td>both</td>\n",
       "      <td>Mid-range product</td>\n",
       "      <td>Regularly busy</td>\n",
       "      <td>Busiest day</td>\n",
       "      <td>Average orders</td>\n",
       "      <td>8</td>\n",
       "      <td>New customer</td>\n",
       "      <td>8.205882</td>\n",
       "      <td>Low spender</td>\n",
       "      <td>19.0</td>\n",
       "      <td>Regular customer</td>\n",
       "      <td>Midwest</td>\n",
       "      <td>high-activity customer</td>\n",
       "      <td>Middle-aged</td>\n",
       "      <td>high-income</td>\n",
       "      <td>has dependants</td>\n",
       "    </tr>\n",
       "  </tbody>\n",
       "</table>\n",
       "</div>"
      ],
      "text/plain": [
       "   user_id  Gender     State  Age Date Joined  number of dependants  \\\n",
       "0    26711  Female  Missouri   48    1/1/2017                     3   \n",
       "1    26711  Female  Missouri   48    1/1/2017                     3   \n",
       "2    26711  Female  Missouri   48    1/1/2017                     3   \n",
       "3    26711  Female  Missouri   48    1/1/2017                     3   \n",
       "4    26711  Female  Missouri   48    1/1/2017                     3   \n",
       "\n",
       "  Family Status  Income  order_id  order_number  order_day_of_week  \\\n",
       "0       married  165665    423547             2                  2   \n",
       "1       married  165665   2524893             3                  3   \n",
       "2       married  165665   2524893             3                  3   \n",
       "3       married  165665   2524893             3                  3   \n",
       "4       married  165665   2984525             4                  1   \n",
       "\n",
       "   order_hour_of_day  days_since_prior_order  product_id  add_to_cart_order  \\\n",
       "0                  9                    14.0       38928                  1   \n",
       "1                 11                    30.0       38928                  1   \n",
       "2                 11                    30.0        6184                  2   \n",
       "3                 11                    30.0       47402                  3   \n",
       "4                 17                    19.0       38928                  1   \n",
       "\n",
       "   reordered              product_name  aisle_id  department_id  prices match  \\\n",
       "0          0  0% Greek Strained Yogurt       120             16    12.6  both   \n",
       "1          1  0% Greek Strained Yogurt       120             16    12.6  both   \n",
       "2          1               Clementines        32              4     4.3  both   \n",
       "3          0               Fuji Apples        24              4     7.1  both   \n",
       "4          1  0% Greek Strained Yogurt       120             16    12.6  both   \n",
       "\n",
       "     price_range_loc     busiest_day    busiest_days busiest_period_of_day  \\\n",
       "0  Mid-range product  Regularly busy  Regularly busy           Most orders   \n",
       "1  Mid-range product  Regularly busy      Least busy           Most orders   \n",
       "2  Low-range product  Regularly busy      Least busy           Most orders   \n",
       "3  Mid-range product  Regularly busy      Least busy           Most orders   \n",
       "4  Mid-range product  Regularly busy     Busiest day        Average orders   \n",
       "\n",
       "   max_order  loyalty_flag  avg_product_price spending_flag  \\\n",
       "0          8  New customer           8.205882   Low spender   \n",
       "1          8  New customer           8.205882   Low spender   \n",
       "2          8  New customer           8.205882   Low spender   \n",
       "3          8  New customer           8.205882   Low spender   \n",
       "4          8  New customer           8.205882   Low spender   \n",
       "\n",
       "   median_days_between_orders order_frequency_flag   region  \\\n",
       "0                        19.0     Regular customer  Midwest   \n",
       "1                        19.0     Regular customer  Midwest   \n",
       "2                        19.0     Regular customer  Midwest   \n",
       "3                        19.0     Regular customer  Midwest   \n",
       "4                        19.0     Regular customer  Midwest   \n",
       "\n",
       "            activity_flag    Age_group income_group dependants_flag  \n",
       "0  high-activity customer  Middle-aged  high-income  has dependants  \n",
       "1  high-activity customer  Middle-aged  high-income  has dependants  \n",
       "2  high-activity customer  Middle-aged  high-income  has dependants  \n",
       "3  high-activity customer  Middle-aged  high-income  has dependants  \n",
       "4  high-activity customer  Middle-aged  high-income  has dependants  "
      ]
     },
     "execution_count": 46,
     "metadata": {},
     "output_type": "execute_result"
    }
   ],
   "source": [
    "df_filtered.head()"
   ]
  },
  {
   "cell_type": "markdown",
   "id": "a97f9c92-a821-4e3a-a45d-320b3af17dc6",
   "metadata": {},
   "source": [
    "# Region vs Spending flag "
   ]
  },
  {
   "cell_type": "code",
   "execution_count": 48,
   "id": "b7c03c26-b5c4-4a38-a60c-87e6e0d767dc",
   "metadata": {},
   "outputs": [],
   "source": [
    "#crosstab region vs spending flag\n",
    "region_spending_cross=pd.crosstab(df_filtered['region'], df_filtered['spending_flag'], normalize='index') * 100"
   ]
  },
  {
   "cell_type": "code",
   "execution_count": 49,
   "id": "6fe4c91e-64eb-4dc0-9ff5-101c14fd5649",
   "metadata": {},
   "outputs": [
    {
     "data": {
      "text/html": [
       "<div>\n",
       "<style scoped>\n",
       "    .dataframe tbody tr th:only-of-type {\n",
       "        vertical-align: middle;\n",
       "    }\n",
       "\n",
       "    .dataframe tbody tr th {\n",
       "        vertical-align: top;\n",
       "    }\n",
       "\n",
       "    .dataframe thead th {\n",
       "        text-align: right;\n",
       "    }\n",
       "</style>\n",
       "<table border=\"1\" class=\"dataframe\">\n",
       "  <thead>\n",
       "    <tr style=\"text-align: right;\">\n",
       "      <th>spending_flag</th>\n",
       "      <th>High spender</th>\n",
       "      <th>Low spender</th>\n",
       "    </tr>\n",
       "    <tr>\n",
       "      <th>region</th>\n",
       "      <th></th>\n",
       "      <th></th>\n",
       "    </tr>\n",
       "  </thead>\n",
       "  <tbody>\n",
       "    <tr>\n",
       "      <th>Midwest</th>\n",
       "      <td>2.060576</td>\n",
       "      <td>97.939424</td>\n",
       "    </tr>\n",
       "    <tr>\n",
       "      <th>Northeast</th>\n",
       "      <td>1.896417</td>\n",
       "      <td>98.103583</td>\n",
       "    </tr>\n",
       "    <tr>\n",
       "      <th>South</th>\n",
       "      <td>1.924623</td>\n",
       "      <td>98.075377</td>\n",
       "    </tr>\n",
       "    <tr>\n",
       "      <th>West</th>\n",
       "      <td>1.903538</td>\n",
       "      <td>98.096462</td>\n",
       "    </tr>\n",
       "  </tbody>\n",
       "</table>\n",
       "</div>"
      ],
      "text/plain": [
       "spending_flag  High spender  Low spender\n",
       "region                                  \n",
       "Midwest            2.060576    97.939424\n",
       "Northeast          1.896417    98.103583\n",
       "South              1.924623    98.075377\n",
       "West               1.903538    98.096462"
      ]
     },
     "execution_count": 49,
     "metadata": {},
     "output_type": "execute_result"
    }
   ],
   "source": [
    "region_spending_cross"
   ]
  },
  {
   "cell_type": "code",
   "execution_count": 50,
   "id": "37f0c818-1012-4b45-b34c-691baab88209",
   "metadata": {},
   "outputs": [
    {
     "data": {
      "image/png": "[encoded data removed]",
      "text/plain": [
       "<Figure size 1000x600 with 1 Axes>"
      ]
     },
     "metadata": {},
     "output_type": "display_data"
    }
   ],
   "source": [
    "# Plot the stacked bar chart\n",
    "region_vs_spending=region_spending_cross.plot(\n",
    "    kind='bar',\n",
    "    stacked=True,\n",
    "    figsize=(10, 6),\n",
    "    colormap='viridis'\n",
    ")\n",
    "\n",
    "# Add titles and labels\n",
    "plt.title('Region vs Spending Flag', fontsize=16)\n",
    "plt.xlabel('Region', fontsize=12)\n",
    "plt.ylabel('Percentage (%)', fontsize=12)\n",
    "plt.xticks(rotation=45)\n",
    "plt.legend(title='Spending Flag', bbox_to_anchor=(1.05, 1), loc='upper left')\n",
    "plt.grid(axis='y', linestyle='--', alpha=0.7)\n",
    "plt.tight_layout()\n",
    "\n",
    "# Show the plot\n",
    "plt.show()"
   ]
  },
  {
   "cell_type": "code",
   "execution_count": 51,
   "id": "c0dd7d1d-4b7c-4ac1-90fe-f529baabef94",
   "metadata": {},
   "outputs": [],
   "source": [
    "#export Region vs Spending cross table \n",
    "region_vs_spending.figure.savefig('/Users/lordsonobire/Documents/Data Immersion/Achievement 4/Instacart Basket Analysis/04 Analysis/Visualizations/region_vs_spending.png')"
   ]
  },
  {
   "cell_type": "markdown",
   "id": "bd1b79c4-8006-4aa3-8805-48f2cd0c2ded",
   "metadata": {},
   "source": [
    "# Loyalty flag vs Age group cross "
   ]
  },
  {
   "cell_type": "code",
   "execution_count": 53,
   "id": "b4a27fd1-e006-4aae-a947-62981fc552a2",
   "metadata": {},
   "outputs": [],
   "source": [
    "#loyalty vs age group\n",
    "loyalty_age_crosstab = pd.crosstab(df_filtered['loyalty_flag'], df_filtered['Age_group'],normalize='columns') * 100"
   ]
  },
  {
   "cell_type": "code",
   "execution_count": 54,
   "id": "90540438-f8b1-46be-8120-24e1f8e5d9f1",
   "metadata": {},
   "outputs": [
    {
     "data": {
      "text/html": [
       "<div>\n",
       "<style scoped>\n",
       "    .dataframe tbody tr th:only-of-type {\n",
       "        vertical-align: middle;\n",
       "    }\n",
       "\n",
       "    .dataframe tbody tr th {\n",
       "        vertical-align: top;\n",
       "    }\n",
       "\n",
       "    .dataframe thead th {\n",
       "        text-align: right;\n",
       "    }\n",
       "</style>\n",
       "<table border=\"1\" class=\"dataframe\">\n",
       "  <thead>\n",
       "    <tr style=\"text-align: right;\">\n",
       "      <th>Age_group</th>\n",
       "      <th>Adult</th>\n",
       "      <th>Middle-aged</th>\n",
       "      <th>Senior</th>\n",
       "      <th>Young adult</th>\n",
       "    </tr>\n",
       "    <tr>\n",
       "      <th>loyalty_flag</th>\n",
       "      <th></th>\n",
       "      <th></th>\n",
       "      <th></th>\n",
       "      <th></th>\n",
       "    </tr>\n",
       "  </thead>\n",
       "  <tbody>\n",
       "    <tr>\n",
       "      <th>Loyal customer</th>\n",
       "      <td>34.303046</td>\n",
       "      <td>34.602488</td>\n",
       "      <td>34.477598</td>\n",
       "      <td>34.370622</td>\n",
       "    </tr>\n",
       "    <tr>\n",
       "      <th>New customer</th>\n",
       "      <td>13.996528</td>\n",
       "      <td>14.106867</td>\n",
       "      <td>14.145561</td>\n",
       "      <td>14.081117</td>\n",
       "    </tr>\n",
       "    <tr>\n",
       "      <th>Regular customer</th>\n",
       "      <td>51.700426</td>\n",
       "      <td>51.290645</td>\n",
       "      <td>51.376841</td>\n",
       "      <td>51.548262</td>\n",
       "    </tr>\n",
       "  </tbody>\n",
       "</table>\n",
       "</div>"
      ],
      "text/plain": [
       "Age_group             Adult  Middle-aged     Senior  Young adult\n",
       "loyalty_flag                                                    \n",
       "Loyal customer    34.303046    34.602488  34.477598    34.370622\n",
       "New customer      13.996528    14.106867  14.145561    14.081117\n",
       "Regular customer  51.700426    51.290645  51.376841    51.548262"
      ]
     },
     "execution_count": 54,
     "metadata": {},
     "output_type": "execute_result"
    }
   ],
   "source": [
    "loyalty_age_crosstab"
   ]
  },
  {
   "cell_type": "code",
   "execution_count": 55,
   "id": "bc334036-55f0-43ba-acea-209b4931bcae",
   "metadata": {},
   "outputs": [
    {
     "data": {
      "image/png": "[encoded data removed]",
      "text/plain": [
       "<Figure size 800x600 with 2 Axes>"
      ]
     },
     "metadata": {},
     "output_type": "display_data"
    }
   ],
   "source": [
    "# Heatmap visualization\n",
    "loyalty_vs_age_group_heat_map=plt.figure(figsize=(8, 6))\n",
    "sns.heatmap(loyalty_age_crosstab, \n",
    "            annot=True, \n",
    "            fmt=\".1f\", \n",
    "            cmap=\"coolwarm\", \n",
    "            cbar_kws={'label': 'Percentage (%)'}, \n",
    "            vmin=0, vmax=100)  # Force color bar to range from 0% to 100%\n",
    "\n",
    "plt.title('Loyalty Distribution by Age Groups', fontsize=16)\n",
    "plt.xlabel('Age Group', fontsize=12)\n",
    "plt.ylabel('Loyalty Flag', fontsize=12)\n",
    "plt.show()\n"
   ]
  },
  {
   "cell_type": "code",
   "execution_count": 56,
   "id": "386b5a70-857d-45e2-8a01-5f01efecab28",
   "metadata": {},
   "outputs": [],
   "source": [
    "#export loyalty vs Age groups heat maps\n",
    "loyalty_vs_age_group_heat_map.figure.savefig('/Users/lordsonobire/Documents/Data Immersion/Achievement 4/Instacart Basket Analysis/04 Analysis/Visualizations/loyalty_vs_age_groups.png')"
   ]
  },
  {
   "cell_type": "markdown",
   "id": "81918098-52cc-4409-9085-34d036cecf6e",
   "metadata": {},
   "source": [
    "# Spending VS Age groups"
   ]
  },
  {
   "cell_type": "code",
   "execution_count": 58,
   "id": "8eb2aafd-a79e-49fb-a5f2-788f844aa84a",
   "metadata": {},
   "outputs": [],
   "source": [
    "# Crosstab for Spending Flag vs. Age Groups\n",
    "spending_age_crosstab = pd.crosstab(df_filtered['spending_flag'], df_filtered['Age_group'], dropna= False)"
   ]
  },
  {
   "cell_type": "code",
   "execution_count": 59,
   "id": "1d442dd6-253c-4882-a821-5fb215cd8c76",
   "metadata": {},
   "outputs": [
    {
     "data": {
      "text/html": [
       "<div>\n",
       "<style scoped>\n",
       "    .dataframe tbody tr th:only-of-type {\n",
       "        vertical-align: middle;\n",
       "    }\n",
       "\n",
       "    .dataframe tbody tr th {\n",
       "        vertical-align: top;\n",
       "    }\n",
       "\n",
       "    .dataframe thead th {\n",
       "        text-align: right;\n",
       "    }\n",
       "</style>\n",
       "<table border=\"1\" class=\"dataframe\">\n",
       "  <thead>\n",
       "    <tr style=\"text-align: right;\">\n",
       "      <th>Age_group</th>\n",
       "      <th>Adult</th>\n",
       "      <th>Middle-aged</th>\n",
       "      <th>Senior</th>\n",
       "      <th>Young adult</th>\n",
       "    </tr>\n",
       "    <tr>\n",
       "      <th>spending_flag</th>\n",
       "      <th></th>\n",
       "      <th></th>\n",
       "      <th></th>\n",
       "      <th></th>\n",
       "    </tr>\n",
       "  </thead>\n",
       "  <tbody>\n",
       "    <tr>\n",
       "      <th>High spender</th>\n",
       "      <td>164396</td>\n",
       "      <td>188245</td>\n",
       "      <td>147235</td>\n",
       "      <td>70398</td>\n",
       "    </tr>\n",
       "    <tr>\n",
       "      <th>Low spender</th>\n",
       "      <td>8558567</td>\n",
       "      <td>8980928</td>\n",
       "      <td>7607325</td>\n",
       "      <td>3586187</td>\n",
       "    </tr>\n",
       "  </tbody>\n",
       "</table>\n",
       "</div>"
      ],
      "text/plain": [
       "Age_group        Adult  Middle-aged   Senior  Young adult\n",
       "spending_flag                                            \n",
       "High spender    164396       188245   147235        70398\n",
       "Low spender    8558567      8980928  7607325      3586187"
      ]
     },
     "execution_count": 59,
     "metadata": {},
     "output_type": "execute_result"
    }
   ],
   "source": [
    "spending_age_crosstab"
   ]
  },
  {
   "cell_type": "code",
   "execution_count": 60,
   "id": "e7c689a3-de16-45c9-9154-99f40df1089a",
   "metadata": {},
   "outputs": [
    {
     "data": {
      "text/plain": [
       "(array([0, 1]), [Text(0, 0, 'High spender'), Text(1, 0, 'Low spender')])"
      ]
     },
     "execution_count": 60,
     "metadata": {},
     "output_type": "execute_result"
    },
    {
     "data": {
      "image/png": "[encoded data removed]",
      "text/plain": [
       "<Figure size 640x480 with 1 Axes>"
      ]
     },
     "metadata": {},
     "output_type": "display_data"
    }
   ],
   "source": [
    "# bar chart visualisation \n",
    "spending_vs_age_bar = spending_age_crosstab.plot.bar()\n",
    "plt.title('Spending by Age Group')\n",
    "plt.xlabel('')\n",
    "plt.ylabel('count')\n",
    "plt.xticks(rotation=0)"
   ]
  },
  {
   "cell_type": "code",
   "execution_count": 61,
   "id": "751b9af5-5f4a-4f40-a849-f5d29d5ec2c7",
   "metadata": {},
   "outputs": [],
   "source": [
    "#export spending vs Age groups heat maps\n",
    "spending_vs_age_bar.figure.savefig('/Users/lordsonobire/Documents/Data Immersion/Achievement 4/Instacart Basket Analysis/04 Analysis/Visualizations/spening_vs_age.png')"
   ]
  },
  {
   "cell_type": "code",
   "execution_count": 62,
   "id": "ce154e50-c067-48b4-8239-8bdd87332f4b",
   "metadata": {},
   "outputs": [
    {
     "data": {
      "text/html": [
       "<div>\n",
       "<style scoped>\n",
       "    .dataframe tbody tr th:only-of-type {\n",
       "        vertical-align: middle;\n",
       "    }\n",
       "\n",
       "    .dataframe tbody tr th {\n",
       "        vertical-align: top;\n",
       "    }\n",
       "\n",
       "    .dataframe thead th {\n",
       "        text-align: right;\n",
       "    }\n",
       "</style>\n",
       "<table border=\"1\" class=\"dataframe\">\n",
       "  <thead>\n",
       "    <tr style=\"text-align: right;\">\n",
       "      <th>Family Status</th>\n",
       "      <th>divorced/widowed</th>\n",
       "      <th>living with parents and siblings</th>\n",
       "      <th>married</th>\n",
       "      <th>single</th>\n",
       "    </tr>\n",
       "    <tr>\n",
       "      <th>loyalty_flag</th>\n",
       "      <th></th>\n",
       "      <th></th>\n",
       "      <th></th>\n",
       "      <th></th>\n",
       "    </tr>\n",
       "  </thead>\n",
       "  <tbody>\n",
       "    <tr>\n",
       "      <th>Loyal customer</th>\n",
       "      <td>866431</td>\n",
       "      <td>483813</td>\n",
       "      <td>7070004</td>\n",
       "      <td>1675133</td>\n",
       "    </tr>\n",
       "    <tr>\n",
       "      <th>New customer</th>\n",
       "      <td>346819</td>\n",
       "      <td>190565</td>\n",
       "      <td>2904048</td>\n",
       "      <td>684777</td>\n",
       "    </tr>\n",
       "    <tr>\n",
       "      <th>Regular customer</th>\n",
       "      <td>1290864</td>\n",
       "      <td>728274</td>\n",
       "      <td>10601690</td>\n",
       "      <td>2460863</td>\n",
       "    </tr>\n",
       "  </tbody>\n",
       "</table>\n",
       "</div>"
      ],
      "text/plain": [
       "Family Status     divorced/widowed  living with parents and siblings  \\\n",
       "loyalty_flag                                                           \n",
       "Loyal customer              866431                            483813   \n",
       "New customer                346819                            190565   \n",
       "Regular customer           1290864                            728274   \n",
       "\n",
       "Family Status      married   single  \n",
       "loyalty_flag                         \n",
       "Loyal customer     7070004  1675133  \n",
       "New customer       2904048   684777  \n",
       "Regular customer  10601690  2460863  "
      ]
     },
     "execution_count": 62,
     "metadata": {},
     "output_type": "execute_result"
    }
   ],
   "source": [
    "age_family_crosstab = pd.crosstab(df_filtered['loyalty_flag'], df_filtered['Family Status'])\n",
    "age_family_crosstab"
   ]
  },
  {
   "cell_type": "code",
   "execution_count": 63,
   "id": "f5b8bec5-08a0-4349-b438-abc9f542d052",
   "metadata": {},
   "outputs": [
    {
     "data": {
      "text/plain": [
       "(array([0, 1, 2]),\n",
       " [Text(0, 0, 'Loyal customer'),\n",
       "  Text(1, 0, 'New customer'),\n",
       "  Text(2, 0, 'Regular customer')])"
      ]
     },
     "execution_count": 63,
     "metadata": {},
     "output_type": "execute_result"
    },
    {
     "data": {
      "image/png": "[encoded data removed]",
      "text/plain": [
       "<Figure size 640x480 with 1 Axes>"
      ]
     },
     "metadata": {},
     "output_type": "display_data"
    }
   ],
   "source": [
    "# bar chart\n",
    "loyalty_fam_bar = age_family_crosstab.plot.bar()\n",
    "plt.title('Loyalty by Family Status')\n",
    "plt.xlabel('')\n",
    "plt.ylabel('count')\n",
    "plt.xticks(rotation=0)"
   ]
  },
  {
   "cell_type": "code",
   "execution_count": 64,
   "id": "e2e1deb4-a88f-44ee-bb1e-6e9866e0001c",
   "metadata": {},
   "outputs": [],
   "source": [
    "# Export the chart\n",
    "loyalty_fam_bar.figure.savefig('/Users/lordsonobire/Documents/Data Immersion/Achievement 4/Instacart Basket Analysis/04 Analysis/Visualizations/loyalty_fam_bar.png')"
   ]
  },
  {
   "cell_type": "code",
   "execution_count": 65,
   "id": "3ede3c15-3a2e-4733-806c-37359cd23947",
   "metadata": {},
   "outputs": [
    {
     "data": {
      "text/html": [
       "<div>\n",
       "<style scoped>\n",
       "    .dataframe tbody tr th:only-of-type {\n",
       "        vertical-align: middle;\n",
       "    }\n",
       "\n",
       "    .dataframe tbody tr th {\n",
       "        vertical-align: top;\n",
       "    }\n",
       "\n",
       "    .dataframe thead th {\n",
       "        text-align: right;\n",
       "    }\n",
       "</style>\n",
       "<table border=\"1\" class=\"dataframe\">\n",
       "  <thead>\n",
       "    <tr style=\"text-align: right;\">\n",
       "      <th>Age_group</th>\n",
       "      <th>Adult</th>\n",
       "      <th>Middle-aged</th>\n",
       "      <th>Senior</th>\n",
       "      <th>Young adult</th>\n",
       "    </tr>\n",
       "    <tr>\n",
       "      <th>loyalty_flag</th>\n",
       "      <th></th>\n",
       "      <th></th>\n",
       "      <th></th>\n",
       "      <th></th>\n",
       "    </tr>\n",
       "  </thead>\n",
       "  <tbody>\n",
       "    <tr>\n",
       "      <th>Loyal customer</th>\n",
       "      <td>2992242</td>\n",
       "      <td>3172762</td>\n",
       "      <td>2673586</td>\n",
       "      <td>1256791</td>\n",
       "    </tr>\n",
       "    <tr>\n",
       "      <th>New customer</th>\n",
       "      <td>1220912</td>\n",
       "      <td>1293483</td>\n",
       "      <td>1096926</td>\n",
       "      <td>514888</td>\n",
       "    </tr>\n",
       "    <tr>\n",
       "      <th>Regular customer</th>\n",
       "      <td>4509809</td>\n",
       "      <td>4702928</td>\n",
       "      <td>3984048</td>\n",
       "      <td>1884906</td>\n",
       "    </tr>\n",
       "  </tbody>\n",
       "</table>\n",
       "</div>"
      ],
      "text/plain": [
       "Age_group           Adult  Middle-aged   Senior  Young adult\n",
       "loyalty_flag                                                \n",
       "Loyal customer    2992242      3172762  2673586      1256791\n",
       "New customer      1220912      1293483  1096926       514888\n",
       "Regular customer  4509809      4702928  3984048      1884906"
      ]
     },
     "execution_count": 65,
     "metadata": {},
     "output_type": "execute_result"
    }
   ],
   "source": [
    "#loyalty vs age group \n",
    "loyalty_age_group_crosstab = pd.crosstab(df_filtered['loyalty_flag'], df_filtered['Age_group'])\n",
    "loyalty_age_group_crosstab"
   ]
  },
  {
   "cell_type": "code",
   "execution_count": 66,
   "id": "ce52b3a5-8457-4b1e-9c37-954f68531eba",
   "metadata": {},
   "outputs": [
    {
     "data": {
      "text/plain": [
       "(array([0, 1, 2]),\n",
       " [Text(0, 0, 'Loyal customer'),\n",
       "  Text(1, 0, 'New customer'),\n",
       "  Text(2, 0, 'Regular customer')])"
      ]
     },
     "execution_count": 66,
     "metadata": {},
     "output_type": "execute_result"
    },
    {
     "data": {
      "image/png": "[encoded data removed]",
      "text/plain": [
       "<Figure size 640x480 with 1 Axes>"
      ]
     },
     "metadata": {},
     "output_type": "display_data"
    }
   ],
   "source": [
    "# bar chart\n",
    "loyalty_agroup_group_bar = loyalty_age_group_crosstab.plot.bar()\n",
    "plt.title('Loyalty by Age Group')\n",
    "plt.xlabel('')\n",
    "plt.ylabel('count')\n",
    "plt.xticks(rotation=0)"
   ]
  },
  {
   "cell_type": "code",
   "execution_count": 67,
   "id": "dafb99de-a697-46eb-b065-b9c19dfbbdd1",
   "metadata": {},
   "outputs": [],
   "source": [
    "# Export the chart\n",
    "loyalty_agroup_group_bar.figure.savefig('/Users/lordsonobire/Documents/Data Immersion/Achievement 4/Instacart Basket Analysis/04 Analysis/Visualizations/loyalty_age_group_bar.png')"
   ]
  },
  {
   "cell_type": "code",
   "execution_count": 68,
   "id": "49a97f77-9ca8-4c63-969a-ba2cce69b637",
   "metadata": {},
   "outputs": [
    {
     "data": {
      "text/plain": [
       "Family Status\n",
       "married                             20575742\n",
       "single                               4820773\n",
       "divorced/widowed                     2504114\n",
       "living with parents and siblings     1402652\n",
       "Name: count, dtype: int64"
      ]
     },
     "execution_count": 68,
     "metadata": {},
     "output_type": "execute_result"
    }
   ],
   "source": [
    "# Check value counts\n",
    "fam_status = df_filtered['Family Status'].value_counts(dropna = False)\n",
    "fam_status"
   ]
  },
  {
   "cell_type": "code",
   "execution_count": 69,
   "id": "28fd22c2-33db-407e-9f34-df4fe0c08bb4",
   "metadata": {},
   "outputs": [
    {
     "data": {
      "image/png": "[encoded data removed]",
      "text/plain": [
       "<Figure size 640x480 with 1 Axes>"
      ]
     },
     "metadata": {},
     "output_type": "display_data"
    }
   ],
   "source": [
    "# Pie chart showing the distribution of family status\n",
    "fam_status_distribution_pie = fam_status.plot.pie(autopct='%1.1f%%', labels= ['married', 'single', 'divorced/widowed', 'living with parents and siblings'], startangle=90, colors=['#ff9999','#66b3ff','#99ff99','#ffcc99'])\n",
    "plt.ylabel('')  # Hide the y-label\n",
    "plt.title('Distribution of Family Status')\n",
    "plt.show()"
   ]
  },
  {
   "cell_type": "code",
   "execution_count": 70,
   "id": "f96c82f1-b9f0-476e-8474-c8f1143d830d",
   "metadata": {},
   "outputs": [],
   "source": [
    "# Export the chart\n",
    "fam_status_distribution_pie.figure.savefig('/Users/lordsonobire/Documents/Data Immersion/Achievement 4/Instacart Basket Analysis/04 Analysis/Visualizations/fam_status_bar.png')"
   ]
  },
  {
   "cell_type": "code",
   "execution_count": 71,
   "id": "c1f4d44d-e1af-493a-9120-c0f385a2da69",
   "metadata": {},
   "outputs": [],
   "source": [
    "# Aggregate average price and order frequency by profile\n",
    "profile_analysis = df_filtered.groupby('income_group').agg({\n",
    "    'prices': 'mean',\n",
    "    'order_id': 'count',\n",
    "}).rename(columns={'prices': 'Average Price', 'order_id': 'Order Frequency'})"
   ]
  },
  {
   "cell_type": "code",
   "execution_count": 82,
   "id": "43d63d59-ed5d-4840-ae87-187470eefd18",
   "metadata": {},
   "outputs": [
    {
     "data": {
      "image/png": "[encoded data removed]",
      "text/plain": [
       "<Figure size 800x500 with 1 Axes>"
      ]
     },
     "metadata": {},
     "output_type": "display_data"
    }
   ],
   "source": [
    "# Visualize with bar chart\n",
    "profile_analysis=profile_analysis.plot(kind='bar', figsize=(8, 5), title=\"Price and Order Frequency by Income Group\")\n",
    "plt.ylabel(\"Values\")\n",
    "plt.show()"
   ]
  },
  {
   "cell_type": "code",
   "execution_count": 84,
   "id": "bb44859c-170c-4175-83da-1e78e925243a",
   "metadata": {},
   "outputs": [],
   "source": [
    "# Export the chart\n",
    "profile_analysis.figure.savefig('/Users/lordsonobire/Documents/Data Immersion/Achievement 4/Instacart Basket Analysis/04 Analysis/Visualizations/profile_analysis.png')"
   ]
  },
  {
   "cell_type": "code",
   "execution_count": null,
   "id": "6763edb0-ad9f-4ad2-ae27-6294f724d225",
   "metadata": {},
   "outputs": [],
   "source": []
  },
  {
   "cell_type": "code",
   "execution_count": null,
   "id": "2242428b-fddc-4305-9583-ac8aecb9fac1",
   "metadata": {},
   "outputs": [],
   "source": []
  }
 ],
 "metadata": {
  "kernelspec": {
   "display_name": "Python 3 (ipykernel)",
   "language": "python",
   "name": "python3"
  },
  "language_info": {
   "codemirror_mode": {
    "name": "ipython",
    "version": 3
   },
   "file_extension": ".py",
   "mimetype": "text/x-python",
   "name": "python",
   "nbconvert_exporter": "python",
   "pygments_lexer": "ipython3",
   "version": "3.12.7"
  }
 },
 "nbformat": 4,
 "nbformat_minor": 5
}
